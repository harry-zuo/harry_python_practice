{
 "cells": [
  {
   "cell_type": "markdown",
   "id": "01feed4a-10cf-4a99-9ac0-8e02321e751f",
   "metadata": {
    "jp-MarkdownHeadingCollapsed": true
   },
   "source": [
    "# 格式化输出"
   ]
  },
  {
   "cell_type": "code",
   "execution_count": 62,
   "id": "1728de59-c6ab-4700-8044-4533f0a07f68",
   "metadata": {},
   "outputs": [],
   "source": [
    "# 赋值表达式，变量名=值\n",
    "\n",
    "\"\"\"\n",
    "class People:\n",
    "    def __init__(self):\n",
    "        pass\n",
    "harry = People() # 这里的值 是一个 类对象的实例化\n",
    "\"\"\"\n",
    "\n",
    "name = \"harry\"\n",
    "age = 11\n",
    "banji = \"6\"\n",
    "shen_gao = 1.8"
   ]
  },
  {
   "cell_type": "code",
   "execution_count": 12,
   "id": "f56cb977",
   "metadata": {},
   "outputs": [
    {
     "name": "stdout",
     "output_type": "stream",
     "text": [
      "#### 日本 🇯🇵 护照 ####\n",
      "    😊 harry\n",
      "    123\n",
      "    奈良 野原\n",
      "####################\n",
      "#### 德国 🇩🇪 护照 ####\n",
      "    😊 susan\n",
      "    456\n",
      "    柏林 乔治\n",
      "####################\n",
      "#### 中国 🇨🇳 护照 ####\n",
      "    😊 jonny\n",
      "    789\n",
      "    安徽 合肥\n",
      "####################\n"
     ]
    }
   ],
   "source": [
    "\"\"\" 设计 passport\n",
    "\n",
    "#### 中国 🇨🇳 护照 ####\n",
    "    😊 左翰林 汉族\n",
    "    1234567890123\n",
    "    上海 徐汇区\n",
    "####################\n",
    "\n",
    "\"\"\"\n",
    "\n",
    "# 方式一\n",
    "# print(\"#### 中国 🇨🇳 护照 ####\")\n",
    "# print(\"    😊 左翰林 汉族\")\n",
    "# print(\"    1234567890123\")\n",
    "# print(\"    上海 徐汇区\")\n",
    "# print(\"####################\")\n",
    "\n",
    "# 方式二\n",
    "\n",
    "# 函数\n",
    "# def passport_template(nationality, name, id, address):\n",
    "#     print(f\"#### {nationality} 护照 ####\")\n",
    "#     print(f\"    😊 {name}\")\n",
    "#     print(f\"    {id}\")\n",
    "#     print(f\"    {address}\")\n",
    "#     print(\"####################\")\n",
    "\n",
    "# nationality = input(\"国籍:\")\n",
    "# name = input(\"名字:\")\n",
    "# id = input(\"身份证:\")\n",
    "# address = input(\"居住所在地:\")\n",
    "\n",
    "# passport_template(nationality, name, id, address)\n",
    "\n",
    "\n",
    "# 3 个人的护照\n",
    "\n",
    "def passport_template(people: dict):\n",
    "    nationality = people[\"nationality\"]\n",
    "    name = people.get(\"name\", \"no name provided\")\n",
    "    id = people.get(\"id\", \"\")\n",
    "    address = people[\"address\"]\n",
    "    print(f\"#### {nationality} 护照 ####\")\n",
    "    print(f\"    😊 {name}\")\n",
    "    print(f\"    {id}\")\n",
    "    print(f\"    {address}\")\n",
    "    print(\"####################\")\n",
    "\n",
    "\n",
    "group = [\n",
    "    {\n",
    "        \"nationality\": \"日本 🇯🇵\",\n",
    "        \"name\": \"harry\",\n",
    "        \"id\": \"123\",\n",
    "        \"address\": \"奈良 野原\"\n",
    "    },\n",
    "    {\n",
    "        \"nationality\": \"德国 🇩🇪\",\n",
    "        \"name\": \"susan\",\n",
    "        \"id\": \"456\",\n",
    "        \"address\": \"柏林 乔治\"\n",
    "    },\n",
    "    {\n",
    "        \"nationality\": \"中国 🇨🇳\",\n",
    "        \"name\": \"jonny\",\n",
    "        \"id\": \"789\",\n",
    "        \"address\": \"安徽 合肥\"\n",
    "    }\n",
    "]\n",
    "\n",
    "# 遍历\n",
    "for people in group: # 迭代器 eg: range(5) group[0] people[\"\"] 或 people.get(\"\", )\n",
    "    passport_template(people)\n",
    "\n",
    "\n"
   ]
  },
  {
   "cell_type": "markdown",
   "id": "54dbac8f-4fba-407c-9c48-5b448e45714c",
   "metadata": {
    "jp-MarkdownHeadingCollapsed": true
   },
   "source": [
    "## format 格式化"
   ]
  },
  {
   "cell_type": "code",
   "execution_count": 7,
   "id": "77951ca7-0256-4878-a138-459592ec15bc",
   "metadata": {},
   "outputs": [
    {
     "name": "stdout",
     "output_type": "stream",
     "text": [
      "My name is harry, age is 11\n"
     ]
    }
   ],
   "source": [
    "# f 函数格式化字符串输出\n",
    "print(f\"My name is {name}, age is {age}\")"
   ]
  },
  {
   "cell_type": "code",
   "execution_count": 14,
   "id": "82095cf4-c628-49a5-8667-5552552e6d74",
   "metadata": {},
   "outputs": [
    {
     "name": "stdout",
     "output_type": "stream",
     "text": [
      "My name is harry, age is 11\n",
      "My name is harry, age is 11\n",
      "My name is harry, age is 11\n"
     ]
    }
   ],
   "source": [
    "# format 函数/方法 格式化字符串输出\n",
    "# \"\".format()\n",
    "\n",
    "print(\"My name is {}, age is {}\".format(name, age))\n",
    "print(\"My name is {0}, age is {1}\".format(name, age))\n",
    "print(\"My name is {mingzi}, age is {nianling}\".format(mingzi=name, nianling=age))"
   ]
  },
  {
   "cell_type": "code",
   "execution_count": 35,
   "id": "d03a32ce-cf30-4560-9788-924013e9e550",
   "metadata": {},
   "outputs": [
    {
     "name": "stdout",
     "output_type": "stream",
     "text": [
      "欢迎 lmj 同学加入尚文班级 0\n",
      "欢迎 harry 同学加入尚文班级 1\n",
      "欢迎 susan 同学加入尚文班级 2\n",
      "欢迎 lydia 同学加入尚文班级 3\n"
     ]
    }
   ],
   "source": [
    "\"\"\"\n",
    "欢迎 lmj 同学加入尚文\n",
    "...\n",
    "欢迎 lydia 同学加入尚文\n",
    "\"\"\"\n",
    "\n",
    "name_list = [\"lmj\", \"harry\", \"susan\", \"lydia\"]\n",
    "\n",
    "# 误将 列表 和 字典 混淆\n",
    "# name_dict = {\n",
    "#     \"name\": \"lmj\",\n",
    "#     \"age\": 11\n",
    "# }\n",
    "\n",
    "# 循环\n",
    "# while\n",
    "# for\n",
    "\n",
    "# f 函数\n",
    "# for name in name_list:\n",
    "#     print(f\"欢迎 {name} 同学加入尚文\")\n",
    "\"\"\"\n",
    "欢迎 lmj 同学加入尚文\n",
    "欢迎 harry 同学加入尚文\n",
    "欢迎 susan 同学加入尚文\n",
    "欢迎 lydia 同学加入尚文\n",
    "\"\"\"\n",
    "\n",
    "# format 函数\n",
    "for index, name in enumerate(name_list):\n",
    "    print(\"欢迎 {mingzi} 同学加入尚文班级 {banjihao}\".format(mingzi=name, banjihao=index))"
   ]
  },
  {
   "cell_type": "markdown",
   "id": "b60f6dd5-4ef7-46c0-ac75-b6a1dc88f44c",
   "metadata": {
    "jp-MarkdownHeadingCollapsed": true
   },
   "source": [
    "## + 符号 拼接"
   ]
  },
  {
   "cell_type": "code",
   "execution_count": 56,
   "id": "e8a7b9d1-bac2-4921-909f-3f182d3079c8",
   "metadata": {},
   "outputs": [
    {
     "name": "stdout",
     "output_type": "stream",
     "text": [
      "欢迎 harry 同学加入尚文班级 6\n",
      "欢迎 harry 同学加入尚文班级 6欢迎 harry 同学加入尚文班级 6欢迎 harry 同学加入尚文班级 6欢迎 harry 同学加入尚文班级 6欢迎 harry 同学加入尚文班级 6欢迎 harry 同学加入尚文班级 6欢迎 harry 同学加入尚文班级 6欢迎 harry 同学加入尚文班级 6欢迎 harry 同学加入尚文班级 6\n"
     ]
    }
   ],
   "source": [
    "# 欢迎 harry 同学加入尚文班级 6\n",
    "output = \"欢迎 \" + name + \" 同学加入尚文班级 \" + banji\n",
    "\n",
    "print(output)\n",
    "\n",
    "# 字符串 还可进行 乘法 运算\n",
    "print(output * 9)\n"
   ]
  },
  {
   "cell_type": "markdown",
   "id": "d0029cb9-2487-42f8-bb2f-eb16ba444926",
   "metadata": {},
   "source": [
    "## % 符号 拼接"
   ]
  },
  {
   "cell_type": "code",
   "execution_count": 69,
   "id": "77e76799-920a-454b-9aba-9dbeb9864a19",
   "metadata": {},
   "outputs": [
    {
     "name": "stdout",
     "output_type": "stream",
     "text": [
      "harry 今年 11 岁, 身高 1.800000 米\n"
     ]
    }
   ],
   "source": [
    "# harry 今年 11 岁, 身高 1.800000 米\n",
    "# %d 数字\n",
    "# %s 字符\n",
    "# %f 小数\n",
    "## % 要求很严苛，需要对输入的值的类型严加管控\n",
    "\n",
    "output = \"%s 今年 %d 岁, 身高 %f 米\"%(name, age, shen_gao)\n",
    "print(output)"
   ]
  },
  {
   "cell_type": "markdown",
   "id": "383bce61-00cb-4712-91e9-51e1002b98c7",
   "metadata": {},
   "source": [
    "# 列表"
   ]
  },
  {
   "cell_type": "markdown",
   "id": "1a539fa4-d835-4e0d-897b-c16c856a4a5e",
   "metadata": {
    "jp-MarkdownHeadingCollapsed": true
   },
   "source": [
    "## 列表 初始化 倒序"
   ]
  },
  {
   "cell_type": "code",
   "execution_count": 4,
   "id": "ee0f0e61-5587-48cd-8ff6-b73f7f17f7da",
   "metadata": {},
   "outputs": [],
   "source": [
    "# 初始化\n",
    "# student_list = []\n",
    "# student_list = list()\n",
    "student_list = [\"aaaaaaaa\", \"zhangsan\", \"aaaaaaaa\", \"harry\", \"aaaaaaaa\", \"lmj\", \"zhangsan\"]\n",
    "\n",
    "# range 初始化实例，区分 list() 与 [] 的差异\n",
    "# harry_chenji = list(range(1, 10, 2))        # [1, 3, 5, 7, 9]\n",
    "# harry_chenji = [range(1, 10, 2)]            # [range(1, 10, 2)]\n",
    "\n",
    "\n",
    "# 倒序\n",
    "# n = 10\n",
    "# harry_chenji = list(range(1, n, 2))\n",
    "# print(harry_chenji)                          # [1, 3, 5, 7, 9]\n",
    "# harry_chenji_daoxu = list(range(n-1, 0, -2)) \n",
    "# print(harry_chenji_daoxu)                    # [9, 7, 5, 3, 1]\n",
    "\n"
   ]
  },
  {
   "cell_type": "markdown",
   "id": "6a8c428d-4d11-422c-a653-1beb451b042e",
   "metadata": {},
   "source": [
    "## 列表中元素 访问 更新 删除"
   ]
  },
  {
   "cell_type": "code",
   "execution_count": 94,
   "id": "859ee500-3b96-4813-b480-8e2e99d4eab2",
   "metadata": {},
   "outputs": [
    {
     "name": "stdout",
     "output_type": "stream",
     "text": [
      "['lmj', 'lydia', 'yangyang', 'yangyang_ta_ge']\n",
      "['lydia', 'lmj', 'yangyang', 'yangyang_ta_ge']\n"
     ]
    }
   ],
   "source": [
    "# 列表是通过 list_name[x] 形式获取 list_name 列表中 x 下标位置的元素\n",
    "\n",
    "friends = [\"lmj\", \"lydia\", \"yangyang\", \"yangyang_ta_ge\"]\n",
    "\n",
    "# 取\n",
    "# print(\"harry 心中的头一号朋友: {}\".format(friends[1]))                # lydia\n",
    "\n",
    "# # 更新\n",
    "# friends[1] = \"xiaoming\"\n",
    "# print(\"过了多少年之后，harry 心中的头一号朋友: {}\".format(friends[1]))   # xiaoming\n",
    "# print(\"此时, harry 心中的所有朋友列表为: {}\".format(friends))          # ['lmj', 'xiaoming', 'yangyang', 'yangyang_ta_ge']\n",
    "\n",
    "# # 删\n",
    "# del friends[1]\n",
    "# print(\"此时, harry 心中的所有朋友列表为: {}\".format(friends))          # ['lmj', 'yangyang', 'yangyang_ta_ge']\n",
    "\n",
    "# 更新+\n",
    "# a = 11\n",
    "# b = 22\n",
    "# print(a, b)        # 11 22\n",
    "\n",
    "# a, b = b, a\n",
    "# print(\"更新后\")\n",
    "# print(a, b)        # 22 11\n",
    "\n",
    "print(friends)       # ['lmj', 'lydia', 'yangyang', 'yangyang_ta_ge']\n",
    "friends[1], friends[0] = friends[0], friends[1]\n",
    "print(friends)       # ['lydia', 'lmj', 'yangyang', 'yangyang_ta_ge']\n"
   ]
  },
  {
   "cell_type": "markdown",
   "id": "ba74decb-c666-4a63-b146-26b555ddffe7",
   "metadata": {},
   "source": [
    "## 列表函数 操作"
   ]
  },
  {
   "cell_type": "code",
   "execution_count": 7,
   "id": "dce11e93-95bc-4dbf-995d-12a94a1e9bd6",
   "metadata": {},
   "outputs": [
    {
     "name": "stdout",
     "output_type": "stream",
     "text": [
      "插入新元素后，列表内容: ['aaaaaaaa', 'daming', 'daming', 'zhangsan', 'aaaaaaaa', 'harry', 'aaaaaaaa', 'lmj', 'zhangsan']\n"
     ]
    }
   ],
   "source": [
    "new_student_1 = \"lydia\"\n",
    "new_student_2 = \"yangyang\"\n",
    "\n",
    "# 末尾追加 元素\n",
    "# student_list.append(new_student_1)\n",
    "# print(student_list)                    # ['zhangsan', 'harry', 'lmj', 'zhangsan']\n",
    "\n",
    "# 统计指定元素个数\n",
    "# student_name = \"lydia\"\n",
    "# count = student_list.count(student_name)\n",
    "# print(\"{} 出现的次数: {}\".format(student_name, count))\n",
    "# lenth = len(student_list)\n",
    "# print(\"统计 student_list 列表长度：{}\".format(lenth))\n",
    "\n",
    "# 找出指定元素，若匹配多个，则选中第一个（默认）索引返回\n",
    "# student_name = \"zhangsan\"\n",
    "# student_index = student_list.index(student_name)\n",
    "# print(\"{} 的 索引是 {} \".format(student_name, student_index))\n",
    "\n",
    "# 移除指定元素，若匹配多个，则选中第一个（默认）索引删除       # ['zhangsan', 'harry', 'lmj', 'zhangsan']\n",
    "# remove_student_name = \"zhangsan\"\n",
    "# student_list.remove(student_name)\n",
    "# print(\"移除后，列表内容: {}\".format(student_list))    # 移除后，列表内容: ['harry', 'lmj', 'zhangsan']\n",
    "\n",
    "# 翻转列表                                             # [\"zhangsan\", \"harry\", \"lmj\", \"zhangsan\"]\n",
    "# student_list.reverse()\n",
    "# print(\"翻转后，列表内容: {}\".format(student_list))    # 移除后，列表内容: ['zhangsan', 'lmj', 'harry', 'zhangsan']\n",
    "\n",
    "# 排序列表，默认升序（小-->大）, 特别注意：字符串是按 ASCII 表顺序\n",
    "# student_list.sort()\n",
    "# print(\"排序后，列表内容: {}\".format(chenji_list))      # 排序后，列表内容: ['harry', 'lmj', 'zhangsan', 'zhangsan']\n",
    "\n",
    "# chenji_list = [33, 22, 100, 55]\n",
    "# chenji_list.sort()\n",
    "# print(\"排序后，列表内容: {}\".format(chenji_list))     # 排序后，列表内容: [22, 33, 55, 100]\n",
    "\n",
    "# chenji_list = [\"33\", \"22\", \"100\", \"55\"]\n",
    "# chenji_list.sort()\n",
    "# print(\"排序后，列表内容: {}\".format(chenji_list))     # 排序后，列表内容: ['100', '22', '33', '55']\n",
    "\n",
    "# 将元素插入指定位置，若指定位置大于列表长度，则放末尾        # [\"aaaaaaaa\", \"zhangsan\", \"aaaaaaaa\", \"harry\", \"aaaaaaaa\", \"lmj\", \"zhangsan\"]\n",
    "new_student_index = 1\n",
    "new_student_name = \"daming\"\n",
    "student_list.insert(new_student_index, new_student_name)\n",
    "print(\"插入新元素后，列表内容: {}\".format(student_list)) # ['aaaaaaaa', 'daming', 'zhangsan', 'aaaaaaaa', 'harry', 'aaaaaaaa', 'lmj', 'zhangsan']\n"
   ]
  },
  {
   "cell_type": "code",
   "execution_count": 1,
   "id": "5f7a288d",
   "metadata": {},
   "outputs": [
    {
     "name": "stdout",
     "output_type": "stream",
     "text": [
      "[-7, '3X^1', '9X^8', '-5X^17']\n"
     ]
    }
   ],
   "source": [
    "## 循环体的内置函数操作：排序，过滤，更新\n",
    "l1 = [(9,8), (-7,0), (-5,17), (100, -7), (3,1)]\n",
    "l1 = list(filter(lambda item: item[1] >= 0, l1))\n",
    "l1 = sorted(l1, key=lambda item:item[1])\n",
    "res = [item for item in map(lambda item: f'{item[0]}X^{item[1]}' if item[1] != 0 else item[0], l1)]\n",
    "print(res)"
   ]
  },
  {
   "cell_type": "markdown",
   "id": "aad321f2-e6f1-4e63-b4b1-0a77ae72d018",
   "metadata": {},
   "source": [
    "## 分支示例 1 ，评分小组件"
   ]
  },
  {
   "cell_type": "code",
   "execution_count": 46,
   "id": "3f136ac2-86aa-4b56-abf7-26e2e85aca3a",
   "metadata": {},
   "outputs": [
    {
     "name": "stdout",
     "output_type": "stream",
     "text": [
      "请输入数字>>>: 60.6\n"
     ]
    },
    {
     "name": "stdout",
     "output_type": "stream",
     "text": [
      "合格\n"
     ]
    }
   ],
   "source": [
    "a = float(input(\"请输入数字>>>:\"))  # int 整形 float 浮点型(即小数)\n",
    "\n",
    "if a >= 90:\n",
    "    print(\"优\")\n",
    "elif a >= 80 and a < 90:\n",
    "    print(\"良\")\n",
    "elif a >= 60 and a < 80:\n",
    "    print(\"合格\")\n",
    "else:\n",
    "    print(\"不及格\")"
   ]
  },
  {
   "cell_type": "code",
   "execution_count": 15,
   "id": "f9e7d6e0",
   "metadata": {},
   "outputs": [
    {
     "name": "stdout",
     "output_type": "stream",
     "text": [
      "不合格\n"
     ]
    }
   ],
   "source": [
    "\"\"\" 计分器\n",
    "\"\"\"\n",
    "a = int(input(\"您的分数:[0~100]\")) # 类型强制转换， 因为py 是弱类型语言\n",
    "\n",
    "if a > 90 and a < 100:\n",
    "    print(\"优\")\n",
    "elif a > 80 and a < 90:\n",
    "    print(\"良\")\n",
    "else:\n",
    "    print(\"不合格\")\n"
   ]
  },
  {
   "cell_type": "code",
   "execution_count": 45,
   "id": "076ad803",
   "metadata": {},
   "outputs": [
    {
     "name": "stdout",
     "output_type": "stream",
     "text": [
      "\n",
      "1 X 1 = 1\t\n",
      "2 X 1 = 2\t2 X 2 = 4\t\n",
      "3 X 1 = 3\t3 X 2 = 6\t3 X 3 = 9\t\n",
      "4 X 1 = 4\t4 X 2 = 8\t4 X 3 = 12\t4 X 4 = 16\t\n",
      "5 X 1 = 5\t5 X 2 = 10\t5 X 3 = 15\t5 X 4 = 20\t5 X 5 = 25\t\n",
      "6 X 1 = 6\t6 X 2 = 12\t6 X 3 = 18\t6 X 4 = 24\t6 X 5 = 30\t6 X 6 = 36\t\n",
      "7 X 1 = 7\t7 X 2 = 14\t7 X 3 = 21\t7 X 4 = 28\t7 X 5 = 35\t7 X 6 = 42\t7 X 7 = 49\t\n",
      "8 X 1 = 8\t8 X 2 = 16\t8 X 3 = 24\t8 X 4 = 32\t8 X 5 = 40\t8 X 6 = 48\t8 X 7 = 56\t8 X 8 = 64\t\n",
      "9 X 1 = 9\t9 X 2 = 18\t9 X 3 = 27\t9 X 4 = 36\t9 X 5 = 45\t9 X 6 = 54\t9 X 7 = 63\t9 X 8 = 72\t9 X 9 = 81\t"
     ]
    }
   ],
   "source": [
    "\"\"\" 九九乘法表\n",
    "\"\"\"\n",
    "\n",
    "# layer 1 # dry run\n",
    "for x in range(1, 10):\n",
    "    print()\n",
    "    for y in range(1, x + 1):\n",
    "        print(f\"{x} X {y} = {x * y}\", end=\"\\t\")\n",
    "    \n",
    "\n"
   ]
  },
  {
   "cell_type": "markdown",
   "id": "f5cc81fe-144f-40f5-9951-1bcd16955d56",
   "metadata": {},
   "source": [
    "# 元组 tuple ，列表 list 混淆"
   ]
  },
  {
   "cell_type": "code",
   "execution_count": 47,
   "id": "6b8eb793-5f50-434d-99f7-e7bc50969b31",
   "metadata": {},
   "outputs": [
    {
     "name": "stdout",
     "output_type": "stream",
     "text": [
      "a 的类型：<class 'int'>；b 的类型：<class 'tuple'>; c 的类型：<class 'list'>; d 的类型：<class 'list'>\n",
      "[60, 70]\n"
     ]
    }
   ],
   "source": [
    "a = (60)\n",
    "b = (60,)\n",
    "c = [60]\n",
    "d = [60,]\n",
    "\n",
    "print(f\"a 的类型：{type(a)}；b 的类型：{type(b)}; c 的类型：{type(c)}; d 的类型：{type(d)}\")\n",
    "\n",
    "# 列表是多个元素的结合，是可变结构\n",
    "d.append(70)\n",
    "print(d)\n",
    "\n",
    "# 元组是多个元素的集合，但其是不可变结构\n",
    "# b.append(70)"
   ]
  },
  {
   "cell_type": "markdown",
   "id": "46b0a36f-ff3c-4a17-a706-c00d04c8db96",
   "metadata": {
    "jp-MarkdownHeadingCollapsed": true
   },
   "source": [
    "## 元组只能创建和读取，无法修改和删除"
   ]
  },
  {
   "cell_type": "code",
   "execution_count": 61,
   "id": "ef2c53ad-856f-40dd-bd76-3707718c25ba",
   "metadata": {},
   "outputs": [
    {
     "name": "stdout",
     "output_type": "stream",
     "text": [
      "<class 'tuple'>\n",
      "<class 'tuple'>\n",
      "<class 'int'>\n",
      "<class 'tuple'>\n",
      "Saturday\n"
     ]
    }
   ],
   "source": [
    "tuple_sample_1 = ()\n",
    "print(type(tuple_sample_1))\n",
    "\n",
    "tuple_sample_2 = (100,)\n",
    "print(type(tuple_sample_2))\n",
    "\n",
    "tuple_sample_3 = (100)  # tuple_sample_3 = 100\n",
    "print(type(tuple_sample_3))\n",
    "\n",
    "# 不能修改的数据结构\n",
    "tuple_example = (\"Sunday\", \"Monday\", \"Tuesday\", \"Wednsday\", \"Thursday\", \"Friday\", \"Saturday\")\n",
    "print(type(tuple_example))\n",
    "\n",
    "def func():\n",
    "    pass\n",
    "\n",
    "# 无限自证，命题和定理的作用就是让你简化得到该结果的过程\n",
    "\n",
    "# 打印周六\n",
    "print(tuple_example[6]) "
   ]
  },
  {
   "cell_type": "markdown",
   "id": "5663f1f6-8c24-409d-b894-0711eb661680",
   "metadata": {
    "jp-MarkdownHeadingCollapsed": true
   },
   "source": [
    "## 元组的内置函数"
   ]
  },
  {
   "cell_type": "code",
   "execution_count": 70,
   "id": "863a63be-858b-4d2f-bf1c-ea2002b6f796",
   "metadata": {},
   "outputs": [
    {
     "name": "stdout",
     "output_type": "stream",
     "text": [
      "6\n",
      "100\n",
      "89\n",
      "<class 'list'>\n",
      "<class 'tuple'>\n"
     ]
    }
   ],
   "source": [
    "score_tuple = (90, 99, 95, 89, 90, 100)\n",
    "\n",
    "# len 查询元组长度 length，和列表一样的方式\n",
    "print(len(score_tuple))  # 6\n",
    "\n",
    "# max 取最大值\n",
    "print(max(score_tuple))  # 100\n",
    "\n",
    "# min 最小值\n",
    "print(min(score_tuple))  # 100\n",
    "\n",
    "\"\"\"\n",
    "## 介绍 math\n",
    "print (max(100, 120, 150))  # 120\n",
    "\"\"\"\n",
    "# 列表转型为数组\n",
    "student_names = [\"lmj\", \"susan\", \"lydia\"]\n",
    "print(type(student_names))  # <class 'list'>\n",
    "student_names = tuple(student_names)\n",
    "print(type(student_names))  # <class 'tuple'>\n"
   ]
  },
  {
   "cell_type": "markdown",
   "id": "83b1d143-986b-4561-9e07-d53587575652",
   "metadata": {},
   "source": [
    "# 集合 set，注意和元组区分\n",
    "- 语法：\n",
    "  - 元组使用圆括号 () 来创建，例如：my_tuple = (1, 2, 3)。\n",
    "  - 集合使用大括号 {} 来创建，例如：my_set = {1, 2, 3}。如果创建空集合，需要使用 set() 函数，因为 {} 创建的是空字典。\n",
    "- 元组（tuple）和集合（set）是两种不同的数据结构，它们有以下区别：\n",
    "  - 不可变性：\n",
    "    - 元组是不可变的数据结构，一旦创建后，其元素无法被修改、添加或删除。\n",
    "    - 集合是可变的数据结构，可以动态地添加或删除元素。\n",
    "  - 重复元素：\n",
    "    - 元组可以包含重复的元素。\n",
    "    - 集合中不允许包含重复的元素，每个元素在集合中是唯一的。\n",
    "  - 索引和顺序：\n",
    "    - 元组是有序的数据结构，可以通过索引访问元组中的元素。\n",
    "    - 集合是无序的数据结构，不支持通过索引访问集合中的元素，因为集合中的元素没有固定的顺序。"
   ]
  },
  {
   "cell_type": "markdown",
   "id": "4f9c0859-71de-4836-8d03-1908f5e2894e",
   "metadata": {
    "jp-MarkdownHeadingCollapsed": true
   },
   "source": [
    "## 集合不可哈希，元组可哈希"
   ]
  },
  {
   "cell_type": "code",
   "execution_count": 5,
   "id": "90337683-275e-4c0b-85a9-27c7204b7c19",
   "metadata": {},
   "outputs": [
    {
     "name": "stdout",
     "output_type": "stream",
     "text": [
      "{(1, 2, 3): 'mytuple'}\n"
     ]
    }
   ],
   "source": [
    "# my_set = {1,2,3}\n",
    "# dict_my_set = {my_set: 'myset'}  # TypeError: unhashable type: 'set'\n",
    "\n",
    "my_tuple = (1,2,3)\n",
    "dict_my_tuple = {my_tuple: 'mytuple'}\n",
    "print(dict_my_tuple)"
   ]
  },
  {
   "cell_type": "markdown",
   "id": "47ac545e-785f-4c59-8193-2b0bc47c6ca1",
   "metadata": {
    "jp-MarkdownHeadingCollapsed": true
   },
   "source": [
    "## 集合的操作，尤其注意 remove, pop 和 discard\n",
    "- remove(element)：从集合中移除`指定`的元素 element，如果元素`不存在于集合中，则抛出 KeyError 异常`。\n",
    "- pop()：`随机`移除集合中的一个元素，并返回该元素。由于集合是无序的数据结构，因此无法确定弹出的元素是哪一个。\n",
    "- discard(element)：从集合中移除`指定`的元素 element，如果元素`不存在于集合中，不会抛出异常，而是简单地不执行任何操作`。"
   ]
  },
  {
   "cell_type": "code",
   "execution_count": 2,
   "id": "ba1f3d42-0157-4bcb-821a-769214edbc65",
   "metadata": {},
   "outputs": [
    {
     "name": "stdout",
     "output_type": "stream",
     "text": [
      "{1, 2, 3, 4, 5, 6}\n",
      "{1, 2, 4, 5, 6}\n",
      "1\n",
      "{2, 4, 5, 6}\n",
      "{2, 4, 5, 6}\n",
      "KeyError: 8\n"
     ]
    }
   ],
   "source": [
    "# 创建一个集合\n",
    "my_set = {1, 2, 3, 4, 5}\n",
    "\n",
    "# 添加元素\n",
    "my_set.add(6)\n",
    "print(my_set)  # 输出: {1, 2, 3, 4, 5, 6}\n",
    "\n",
    "# 移除元素\n",
    "my_set.remove(3)\n",
    "print(my_set)  # 输出: {1, 2, 4, 5, 6}\n",
    "\n",
    "# 弹出元素（随机移除一个元素）\n",
    "popped_element = my_set.pop()\n",
    "print(popped_element)  # 输出: 1\n",
    "print(my_set)  # 输出: {2, 4, 5, 6}\n",
    "\n",
    "# 移除指定元素，如果元素不存在不会报错\n",
    "my_set.discard(8)\n",
    "print(my_set)  # 输出: {2, 4, 5, 6}\n",
    "\n",
    "# 移除指定元素，如果元素不存在会报错\n",
    "try:\n",
    "    my_set.remove(8)\n",
    "except KeyError as e:\n",
    "    print(f\"KeyError: {e}\")  # 输出: KeyError: 8"
   ]
  },
  {
   "cell_type": "markdown",
   "id": "a02b9191-288f-45f2-bad4-080e711b70bc",
   "metadata": {
    "jp-MarkdownHeadingCollapsed": true
   },
   "source": [
    "# 字符串\n",
    "回顾一下 Python 中常用处理字符串的相关函数\n",
    "\n",
    "- string.capitalize() 把字符串的第一个字符大写\n",
    "- string.count(str, beg=0, end=len(string)) 返回 str 在 string 里面出现的次数，如果 beg 或者 end 指定则返回指定范围内 str 出现的次数\n",
    "- string.endswith(obj, beg=0, end=len(string)) 检查字符串是否以 obj 结束，如果beg 或者 end 指定则检查指定的范围内是否以 obj 结束，如果是，返回 True,否则返回 False.\n",
    "- string.find(str, beg=0, end=len(string)) 检测 str 是否包含在 string 中，如果 beg 和 end 指定范围，则检查是否包含在指定范围内，如果是返回开始的索引值，否则返回-1\n",
    "- string.index(str, beg=0, end=len(string)) 跟find()方法一样，只不过如果str不在 string中会报一个异常.\n",
    "- string.isalnum() 如果 string 至少有一个字符并且所有字符都是字母或数字则返回 True,否则返回 False\n",
    "- string.isalpha() 如果 string 至少有一个字符并且所有字符都是字母则返回 True,否则返回 False\n",
    "- string.isdecimal() 如果 string 只包含十进制数字则返回 True 否则返回 False.\n",
    "- string.isdigit() 如果 string 只包含数字则返回 True 否则返回 False.\n",
    "- string.islower() 如果 string 中包含至少一个区分大小写的字符，并且所有这些(区分大小写的)字符都是小写，则返回 True，否则返回 False\n",
    "- string.isnumeric() 如果 string 中只包含数字字符，则返回 True，否则返回 False\n",
    "- string.isspace() 如果 string 中只包含空格，则返回 True，否则返回 False.\n",
    "- string.istitle() 如果 string 是标题化的(见 title())则返回 True，否则返回 False\n",
    "- string.isupper() 如果 string 中包含至少一个区分大小写的字符，并且所有这些(区分大小写的)字符都是大写，则返回 True，否则返回 False\n",
    "- string.join(seq) 以 string 作为分隔符，将 seq 中所有的元素(的字符串表示)合并为一个新的字符串\n",
    "- string.lower() 转换 string 中所有大写字符为小写.\n",
    "- string.lstrip() 截掉 string 左边的空格\n",
    "- max(str) 返回字符串 str 中最大的字母。\n",
    "- min(str) 返回字符串 str 中最小的字母。\n",
    "- string.replace(str1, str2, num=string.count(str1)) 把 string 中的 str1 替换成 str2,如果 num 指定，则替换不超过 num 次.\n",
    "- string.split(str=\"\", num=string.count(str)) 以 str 为分隔符切片 string，如果 num 有指定值，则仅分隔 num+ 个子字符串\n",
    "- string.startswith(obj, beg=0,end=len(string)) 检查字符串是否是以 obj 开头，是则返回 True，否则返回 False。如果beg 和 end 指定值，则在指定范围内检查.\n",
    "- string.strip([obj]) 在 string 上执行 lstrip()和 rstrip()\n",
    "- string.swapcase() 翻转 string 中的大小写\n",
    "- string.title() 返回\"标题化\"的 string,就是说所有单词都是以大写开始，其余字母均为小写(见 istitle())\n",
    "- string.translate(str, del=\"\") 根据 str 给出的表(包含 256 个字符)转换 string 的字符,要过滤掉的字符放到 del 参数中\n",
    "- string.upper() 转换 string 中的小写字母为大写"
   ]
  },
  {
   "cell_type": "code",
   "execution_count": null,
   "id": "ba90ae3f-39f5-44e2-915f-f4f89555817b",
   "metadata": {},
   "outputs": [],
   "source": [
    "title = input(\"请输入角色名字 >>>:\")\n",
    "\n",
    "# 注意书写格式，区分非英文字符的 print（）\n",
    "print(title)  # 你~干嘛~啊！\n",
    "\n",
    "# 切片操作\n",
    "print(title.split(\"~\"))  # ['你', '干嘛', '啊！']\n",
    "# 允许控制切片的次数\n",
    "print(title.split(\"~\", 1))  # ['你', '干嘛~啊！']\n",
    "print(len(title))"
   ]
  },
  {
   "cell_type": "markdown",
   "id": "f2a23308-3906-496a-a75d-8332e76a9a96",
   "metadata": {
    "jp-MarkdownHeadingCollapsed": true
   },
   "source": [
    "## 字符串运算相关 max, min"
   ]
  },
  {
   "cell_type": "code",
   "execution_count": null,
   "id": "1d10eadd-ad6d-44bf-a78a-2352b8d812ce",
   "metadata": {},
   "outputs": [],
   "source": [
    "strs = [\"flower\",\"flow\",\"flight\"]\n",
    "\n",
    "mn = min(strs)\n",
    "mx = max(strs)\n",
    "print(mn, mx)"
   ]
  },
  {
   "cell_type": "markdown",
   "id": "38bdb156",
   "metadata": {},
   "source": [
    "## 字符串数字 digits"
   ]
  },
  {
   "cell_type": "code",
   "execution_count": null,
   "id": "e3444077",
   "metadata": {},
   "outputs": [],
   "source": [
    "\"\"\"\n",
    "取字符串数字中的最大长度为 3 的子字符串，无则返回空字符串\n",
    "\"\"\"\n",
    "\n",
    "from string import digits\n",
    "\n",
    "def largestGoodInteger(num: str) -> str:\n",
    "    # mx = -1\n",
    "    # for i in range(len(num) - 2):\n",
    "    #     if len(set(num[i:i+3])) == 1:\n",
    "    #         mx = max(int(num[i:i+3]), mx)\n",
    "    # return f\"{mx:0>3d}\" if mx > -1 else \"\"\n",
    "\n",
    "    # T(n) = n * k (k 为目标子字符串长度)\n",
    "    # ASCII 表中，字符串数字也是从小到大排序，如 \"0\" < \"1\" < \"2\" ...\n",
    "    # mx = \"\"\n",
    "    # for i in range(len(num) - 2):\n",
    "    #     if mx < num[i] == num[i + 1] == num[i + 2]:\n",
    "    #         mx = num[i]\n",
    "    # return mx * 3\n",
    "\n",
    "    # T(n) = 10 * k * n\n",
    "    for d in reversed(digits):\n",
    "        if d * 3 in num:\n",
    "            return d * 3\n",
    "    return \"\"\n"
   ]
  },
  {
   "cell_type": "markdown",
   "id": "080f9e65-8844-471a-91ae-881861e4e0de",
   "metadata": {
    "jp-MarkdownHeadingCollapsed": true
   },
   "source": [
    "# 函数"
   ]
  },
  {
   "cell_type": "code",
   "execution_count": 77,
   "id": "7a3985b4-6291-49d5-99bd-375dfa0c9db0",
   "metadata": {},
   "outputs": [
    {
     "data": {
      "text/plain": [
       "'\\ndef 函数名(参数1，参数2，参数3，…)：\\n  函数体\\n'"
      ]
     },
     "execution_count": 77,
     "metadata": {},
     "output_type": "execute_result"
    }
   ],
   "source": [
    "\"\"\"\n",
    "def 函数名(参数1，参数2，参数3，…)：\n",
    "  函数体\n",
    "\"\"\""
   ]
  },
  {
   "cell_type": "markdown",
   "id": "1b879864-6d2c-41a1-9408-0c2b61534563",
   "metadata": {
    "jp-MarkdownHeadingCollapsed": true
   },
   "source": [
    "# 读/写 文件\n",
    "- 读写文件就是请求操作系统打开一个文件对象\n",
    "- 通过文件对象中读取/写入数据"
   ]
  },
  {
   "attachments": {
    "5edea9c7-4258-46fa-b1c0-934d000d0960.png": {
     "image/png": "[encoded data removed]"
    }
   },
   "cell_type": "markdown",
   "id": "14266227-9a46-4511-9e8c-6dbd44db7585",
   "metadata": {},
   "source": [
    "## 读 文件\n",
    "![image.png](attachment:5edea9c7-4258-46fa-b1c0-934d000d0960.png)"
   ]
  },
  {
   "cell_type": "code",
   "execution_count": 28,
   "id": "43d32152-f42b-406c-89d0-104dbd3102f9",
   "metadata": {},
   "outputs": [
    {
     "name": "stdout",
     "output_type": "stream",
     "text": [
      "<_io.TextIOWrapper name='../file_test/read_file' mode='r' encoding='UTF-8'>\n",
      "今天周六，天气不错\n",
      "读结束\n"
     ]
    }
   ],
   "source": [
    "# 最原始的方法，一开一关\n",
    "# f = open(\"../file_test/read_file\", \"r\")\n",
    "# f.read()  # \"i am harry\"\n",
    "# # 一些操作 pass\n",
    "# f.close()\n",
    "\n",
    "# 更丝滑的方法，自动关\n",
    "with open(\"../file_test/read_file\", \"r\") as harry_file:  # r UTF-8\n",
    "    harry_file_content = harry_file.read()\n",
    "    print(harry_file)  # 文件对象 <_io.TextIOWrapper name='../file_test/read_file' mode='r' encoding='UTF-8'>\n",
    "    print(harry_file_content) # \"i am harry\"\n",
    "\n",
    "print(\"读结束\")\n"
   ]
  },
  {
   "cell_type": "markdown",
   "id": "a00d71cb-c719-479a-bbeb-d6a56dc6b117",
   "metadata": {},
   "source": [
    "## 写 文件"
   ]
  },
  {
   "cell_type": "code",
   "execution_count": 19,
   "id": "b3f44a35-271e-454b-a89e-8cf0d5125f4e",
   "metadata": {},
   "outputs": [
    {
     "name": "stdout",
     "output_type": "stream",
     "text": [
      "<_io.TextIOWrapper name='../file_test/read_file' mode='w' encoding='UTF-8'>\n"
     ]
    }
   ],
   "source": [
    "with open(\"../file_test/read_file\", \"w\") as harry_file:  # w UTF-8\n",
    "    harry_file.write(\"今天周六，天气不错\")\n",
    "    print(harry_file)  # 文件对象 <_io.TextIOWrapper name='../file_test/read_file' mode='w' encoding='UTF-8'>\n",
    "\n",
    "with open(\"../file_test/read_filexxx\", \"w\") as harry_file:  # w 如果文件不存在，则创建\n",
    "    harry_file.write(\"今天周六，天气不错xxx\")"
   ]
  },
  {
   "cell_type": "markdown",
   "id": "ceb19b14-3820-4629-9ad4-951c0d626eb8",
   "metadata": {
    "jp-MarkdownHeadingCollapsed": true
   },
   "source": [
    "# 异常处理"
   ]
  },
  {
   "cell_type": "code",
   "execution_count": 29,
   "id": "affac561-ebe0-408c-9eb8-11eba910b0f3",
   "metadata": {},
   "outputs": [
    {
     "name": "stdout",
     "output_type": "stream",
     "text": [
      "异常处理验证模块结束\n"
     ]
    },
    {
     "ename": "FileNotFoundError",
     "evalue": "[Errno 2] No such file or directory: '../file_test/read_file123'",
     "output_type": "error",
     "traceback": [
      "\u001b[0;31m---------------------------------------------------------------------------\u001b[0m",
      "\u001b[0;31mFileNotFoundError\u001b[0m                         Traceback (most recent call last)",
      "Cell \u001b[0;32mIn[29], line 2\u001b[0m\n\u001b[1;32m      1\u001b[0m \u001b[38;5;28;01mtry\u001b[39;00m:\n\u001b[0;32m----> 2\u001b[0m     \u001b[38;5;28;01mwith\u001b[39;00m \u001b[38;5;28;43mopen\u001b[39;49m\u001b[43m(\u001b[49m\u001b[38;5;124;43m\"\u001b[39;49m\u001b[38;5;124;43m../file_test/read_file123\u001b[39;49m\u001b[38;5;124;43m\"\u001b[39;49m\u001b[43m,\u001b[49m\u001b[43m \u001b[49m\u001b[38;5;124;43m\"\u001b[39;49m\u001b[38;5;124;43mr\u001b[39;49m\u001b[38;5;124;43m\"\u001b[39;49m\u001b[43m)\u001b[49m \u001b[38;5;28;01mas\u001b[39;00m harry_file:  \u001b[38;5;66;03m# FileNotFoundError\u001b[39;00m\n\u001b[1;32m      3\u001b[0m         harry_file_content \u001b[38;5;241m=\u001b[39m harry_file\u001b[38;5;241m.\u001b[39mread()\n\u001b[1;32m      4\u001b[0m         \u001b[38;5;28mprint\u001b[39m(harry_file)\n",
      "File \u001b[0;32m/Library/Frameworks/Python.framework/Versions/3.12/lib/python3.12/site-packages/IPython/core/interactiveshell.py:324\u001b[0m, in \u001b[0;36m_modified_open\u001b[0;34m(file, *args, **kwargs)\u001b[0m\n\u001b[1;32m    317\u001b[0m \u001b[38;5;28;01mif\u001b[39;00m file \u001b[38;5;129;01min\u001b[39;00m {\u001b[38;5;241m0\u001b[39m, \u001b[38;5;241m1\u001b[39m, \u001b[38;5;241m2\u001b[39m}:\n\u001b[1;32m    318\u001b[0m     \u001b[38;5;28;01mraise\u001b[39;00m \u001b[38;5;167;01mValueError\u001b[39;00m(\n\u001b[1;32m    319\u001b[0m         \u001b[38;5;124mf\u001b[39m\u001b[38;5;124m\"\u001b[39m\u001b[38;5;124mIPython won\u001b[39m\u001b[38;5;124m'\u001b[39m\u001b[38;5;124mt let you open fd=\u001b[39m\u001b[38;5;132;01m{\u001b[39;00mfile\u001b[38;5;132;01m}\u001b[39;00m\u001b[38;5;124m by default \u001b[39m\u001b[38;5;124m\"\u001b[39m\n\u001b[1;32m    320\u001b[0m         \u001b[38;5;124m\"\u001b[39m\u001b[38;5;124mas it is likely to crash IPython. If you know what you are doing, \u001b[39m\u001b[38;5;124m\"\u001b[39m\n\u001b[1;32m    321\u001b[0m         \u001b[38;5;124m\"\u001b[39m\u001b[38;5;124myou can use builtins\u001b[39m\u001b[38;5;124m'\u001b[39m\u001b[38;5;124m open.\u001b[39m\u001b[38;5;124m\"\u001b[39m\n\u001b[1;32m    322\u001b[0m     )\n\u001b[0;32m--> 324\u001b[0m \u001b[38;5;28;01mreturn\u001b[39;00m \u001b[43mio_open\u001b[49m\u001b[43m(\u001b[49m\u001b[43mfile\u001b[49m\u001b[43m,\u001b[49m\u001b[43m \u001b[49m\u001b[38;5;241;43m*\u001b[39;49m\u001b[43margs\u001b[49m\u001b[43m,\u001b[49m\u001b[43m \u001b[49m\u001b[38;5;241;43m*\u001b[39;49m\u001b[38;5;241;43m*\u001b[39;49m\u001b[43mkwargs\u001b[49m\u001b[43m)\u001b[49m\n",
      "\u001b[0;31mFileNotFoundError\u001b[0m: [Errno 2] No such file or directory: '../file_test/read_file123'"
     ]
    }
   ],
   "source": [
    "try:\n",
    "    with open(\"../file_test/read_file123\", \"r\") as harry_file:  # FileNotFoundError\n",
    "        harry_file_content = harry_file.read()\n",
    "        print(harry_file)\n",
    "        print(harry_file_content)\n",
    "except ValueError as e:\n",
    "    print(f\"出错啦，但知道原因是 {e}\")\n",
    "finally:\n",
    "    print(\"异常处理验证模块结束\")\n",
    "\n",
    "\"\"\"\n",
    "1. except:#捕获所有异常;\n",
    "2. except <异常名>:#捕获指定异常;\n",
    "3. except (异常名1,异常名2):#捕获异常名1 或者异常名2;\n",
    "\"\"\""
   ]
  },
  {
   "cell_type": "markdown",
   "id": "add57513-c340-4236-83af-790e1d14d78f",
   "metadata": {
    "jp-MarkdownHeadingCollapsed": true
   },
   "source": [
    "# 对象"
   ]
  },
  {
   "cell_type": "code",
   "execution_count": 82,
   "id": "33c9dfbf-c751-4c51-be6f-b4fbec56db9f",
   "metadata": {},
   "outputs": [
    {
     "name": "stdout",
     "output_type": "stream",
     "text": [
      "我的 pencil 是: 晨光电子笔\n"
     ]
    }
   ],
   "source": [
    "class Bag:\n",
    "    # 数据属性\n",
    "    def __init__(self, pencil):\n",
    "        self.pencil = pencil\n",
    "    # 功能属性\n",
    "    def func(self):\n",
    "        print(f\"我的 pencil 是: {self.pencil}\")\n",
    "\n",
    "harry_bag = Bag(pencil=\"晨光电子笔\")\n",
    "harry_bag.func()"
   ]
  },
  {
   "cell_type": "markdown",
   "id": "c4a637a4-f81c-4e1d-a2df-674b29d7a90d",
   "metadata": {},
   "source": [
    "# 一些常用库"
   ]
  },
  {
   "cell_type": "markdown",
   "id": "892f9b60-2db2-45b8-9d77-4b6ddd76930f",
   "metadata": {},
   "source": [
    "## 排序 sorted"
   ]
  },
  {
   "cell_type": "code",
   "execution_count": 2,
   "id": "bffed37e-6f10-40fe-b0cc-4b3e64443861",
   "metadata": {},
   "outputs": [
    {
     "name": "stdout",
     "output_type": "stream",
     "text": [
      "['c', 'b', 'a']\n"
     ]
    }
   ],
   "source": [
    "#使用sorted()函数和字典的items()方法：\n",
    "#通过sorted()函数对字典的items()方法返回的键值对列表进行排序，然后使用字典推导式重新创建一个有序的字典。\n",
    "my_dict = {'b': 2, 'c': 3, 'a': 1}\n",
    "\n",
    "print(sorted(my_dict, key=my_dict.get, reverse=True)) # ['c', 'b', 'a']\n",
    "\n",
    "# sorted_dict = {k: v for k, v in sorted(my_dict.items(), key=lambda item: item)}\n",
    "# print(sorted_dict)\n",
    "\n",
    "# #使用collections.OrderedDict类：\n",
    "# #利用collections模块中的OrderedDict类，通过传入sorted()函数排序后的键值对列表，构造一个有序的字典。\n",
    "# from collections import OrderedDict\n",
    "# my_dict = {'b': 2, 'c': 3, 'a': 1}\n",
    "# sorted_dict = OrderedDict(sorted(my_dict.items(), key=lambda item: item))\n",
    "# print(sorted_dict)\n",
    "\n",
    "# prices = {\n",
    "#     'AAPL': 191.88,\n",
    "#     'IBM': 149.24,\n",
    "#     'GOOG': 1186.96,\n",
    "# }\n",
    "\n",
    "# ordered = {k: prices[k] for k in sorted(prices, key=lambda k: prices[k])}\n",
    "# print(ordered)"
   ]
  },
  {
   "cell_type": "markdown",
   "id": "3a4a3872-b7bf-4a24-acab-ed48bf0cc541",
   "metadata": {},
   "source": [
    "## 单例 及 decorator"
   ]
  },
  {
   "cell_type": "code",
   "execution_count": 2,
   "id": "fe27cd11-76d1-4024-8fd2-db064f6b59f4",
   "metadata": {},
   "outputs": [
    {
     "data": {
      "text/plain": [
       "<__main__.People at 0x10dd7b2d0>"
      ]
     },
     "execution_count": 2,
     "metadata": {},
     "output_type": "execute_result"
    }
   ],
   "source": [
    "# 单例：使用类属性（简单场景）\n",
    "class SingletonInstance:\n",
    "    _instance = None\n",
    "\n",
    "    def __new__(cls, *args, **kwargs):\n",
    "        if not cls._instance:\n",
    "            cls._instance = super().__new__(cls, *args, **kwargs)\n",
    "        return cls._instance\n",
    "\n",
    "    def __init__(self, xx):\n",
    "        pass\n",
    "        \n",
    "    def foo(self):\n",
    "        pass\n",
    "        \n",
    "# 单例：装饰器（多个类复用，灵活，但需要额外编写装饰器函数，如果是多个装饰器则注意是由里至外的顺序执行）\n",
    "def singleton(cls):\n",
    "    _instance = {}\n",
    "    def get_instance(*args, **kwargs):\n",
    "        if cls not in _instance:\n",
    "            _instance[cls] = cls(*args, **kwargs)\n",
    "        return _instance[cls]\n",
    "    return get_instance\n",
    "\n",
    "@singleton\n",
    "class People():\n",
    "    pass\n",
    "\n",
    "# 单例：元类 metaclass(适用于需要深度控制类行为的复杂场景，但代码结构会复杂)\n",
    "class SingletonMeta(type):\n",
    "    _instance = {}\n",
    "\n",
    "    def __call__(cls, *args, **kwargs):\n",
    "        if cls not in cls._instance:\n",
    "            cls._instance[cls] = super().__call__(*args, **kwargs)\n",
    "        return cls._instance[cls]\n",
    "    \n",
    "class People(metaclass=SingletonMeta):\n",
    "    pass\n",
    "\n",
    "People()"
   ]
  },
  {
   "cell_type": "markdown",
   "id": "28c0038c-8b57-438b-a7fc-2b3abea77c93",
   "metadata": {},
   "source": [
    "## 深浅拷贝"
   ]
  },
  {
   "cell_type": "code",
   "execution_count": null,
   "id": "d6f7fef1-ec6e-4eb2-8ed4-3a9d689e7f21",
   "metadata": {},
   "outputs": [],
   "source": [
    "import copy\n",
    "\n",
    "b = [[1, [2], 3], 4, 5]\n",
    "\n",
    "a1 = b\n",
    "\n",
    "a2 = b.copy()\n",
    "a3 = copy.deepcopy(b)\n",
    "\n",
    "\n",
    "b[0][1] = 'abc'\n",
    "b[2] = 'd'\n",
    "\n",
    "print(a1)\n",
    "print(a2)\n",
    "print(a3)\n",
    "\n",
    "\"\"\"\n",
    "[[1, 'abc', 3], 4, 'd']\n",
    "[[1, 'abc', 3], 4, 5]\n",
    "[[1, [2], 3], 4, 5]\n",
    "\"\"\""
   ]
  },
  {
   "cell_type": "markdown",
   "id": "88b38dbf",
   "metadata": {},
   "source": [
    "## collections.namedtuple\n",
    "为什么需要数据类？\n",
    "\n",
    "假设有这么一个场景，需要对一个数据对象保存一些运动员信息"
   ]
  },
  {
   "cell_type": "markdown",
   "id": "9fab6d56",
   "metadata": {},
   "source": [
    "### tuple & dict"
   ]
  },
  {
   "cell_type": "markdown",
   "id": "abcf7f9c",
   "metadata": {},
   "source": [
    "#### tuple"
   ]
  },
  {
   "cell_type": "code",
   "execution_count": null,
   "id": "a335f3da",
   "metadata": {},
   "outputs": [
    {
     "data": {
      "text/plain": [
       "'micheal jordan'"
      ]
     },
     "execution_count": 90,
     "metadata": {},
     "output_type": "execute_result"
    }
   ],
   "source": [
    "jordan = ('micheal jordan', 23, 'PG', 'USA')\n",
    "jordan[0]\n",
    "\n",
    "# 劣势：创建和取值基于位置，需要记住下标对应的信息"
   ]
  },
  {
   "cell_type": "markdown",
   "id": "adeb66fc",
   "metadata": {},
   "source": [
    "#### dict"
   ]
  },
  {
   "cell_type": "code",
   "execution_count": null,
   "id": "9f9ca6bc",
   "metadata": {},
   "outputs": [
    {
     "data": {
      "text/plain": [
       "'PG'"
      ]
     },
     "execution_count": 92,
     "metadata": {},
     "output_type": "execute_result"
    }
   ],
   "source": [
    "jordan = {\n",
    "    'name': 'MJ',\n",
    "    'number': 23,\n",
    "    'position': 'PG',\n",
    "    'address': 'USA'\n",
    "}\n",
    "\n",
    "jordan['position']\n",
    "\n",
    "# 1. 无法对数据属性名进行控制，少值一样可以创建成功，比如 jordan = {'name': 'MJ'}\n",
    "# 2. 更希望key机采用类似获取属性一样使用 jordan.position"
   ]
  },
  {
   "cell_type": "markdown",
   "id": "3ab477d3",
   "metadata": {},
   "source": [
    "### namedtuple\n",
    "为了解决上述问题， 命名元组可以使用`点表示法`访问命名元组中的值"
   ]
  },
  {
   "cell_type": "code",
   "execution_count": 98,
   "id": "5c0588ec",
   "metadata": {},
   "outputs": [
    {
     "name": "stdout",
     "output_type": "stream",
     "text": [
      "Player(name='MJ', number=23, position='PG', address='USA')\n",
      "USA\n"
     ]
    }
   ],
   "source": [
    "from collections import namedtuple\n",
    "\n",
    "Player = namedtuple('Player', ['name', 'number', 'position', 'address'])\n",
    "jordan = Player('MJ', 23, 'PG', 'USA')\n",
    "\n",
    "print(jordan)\n",
    "print(jordan.address)\n",
    "\n",
    "# 1. 对于字段比较少的数据结构，namedtuple 是一个非常好的解决方案，但复杂的字段场景就无法满足了\n",
    "# 2. 数据无法修改 jordan.address = 'chinese' # AttributeError: can't set attribute\n",
    "# 3. 无法自定义数据比较，没有默认值，没有函数支持"
   ]
  },
  {
   "cell_type": "markdown",
   "id": "bb036de7",
   "metadata": {},
   "source": [
    "### 自定义类 Class\n",
    "为了支持数据修改，默认值，比较等功能，更好的实现是使用自定义类 Class"
   ]
  },
  {
   "cell_type": "code",
   "execution_count": null,
   "id": "955de06a",
   "metadata": {},
   "outputs": [
    {
     "name": "stdout",
     "output_type": "stream",
     "text": [
      "Chinese\n",
      "<__main__.Player object at 0x116a754d0>\n",
      "PlayerPlus: KB, #24 @PG\n",
      "True\n",
      "PlayerPlus: KB, #24 @SF\n"
     ]
    }
   ],
   "source": [
    "class Player:\n",
    "    def __init__(self, name, number, position, address):\n",
    "        self.name = name\n",
    "        self.number = number\n",
    "        self.position = position\n",
    "        self.address = address\n",
    "\n",
    "bryant = Player(name='KB', number=24, position='PG', address='USA')\n",
    "mj = Player(name='MJ', number=23, position='PG', address='USA')\n",
    "\n",
    "bryant.address='Chinese'\n",
    "print(bryant.address)\n",
    "\n",
    "# 1. 对象的描述不太友好\n",
    "print(bryant) # <__main__.Player object at 0x111e5f2d0>\n",
    "\n",
    "# 2. 数据不支持比较\n",
    "# bryant > mj # TypeError: '>' not supported between instances of 'Player' and 'Player'\n",
    "\n",
    "# 为了解决上述两个问题可以通过实现 `__repr__`自定义描述和 `__gt__`方法来支持比较\n",
    "\n",
    "\n",
    "class PlayerPlus:\n",
    "    def __init__(self, name, number, position, address):\n",
    "        self.name = name\n",
    "        self.number = number\n",
    "        self.position = position\n",
    "        self.address = address\n",
    "\n",
    "    def __repr__(self):\n",
    "        return f'{self.__class__.__name__}: {self.name}, #{self.number} @{self.position}'\n",
    "    \n",
    "    def __eq__(self, other):\n",
    "        return self.number == other.number\n",
    "\n",
    "    def __gt__(self, other):\n",
    "        return self.number > other.number\n",
    "    \n",
    "    def swing(self, pos):\n",
    "        self.position = pos\n",
    "    \n",
    "bryant_plus = PlayerPlus(name='KB', number=24, position='PG', address='USA')\n",
    "mj_plus = PlayerPlus(name='MJ', number=23, position='PG', address='USA')\n",
    "\n",
    "print(bryant_plus)\n",
    "\n",
    "print(bryant_plus > mj_plus)\n",
    "\n",
    "bryant_plus.swing('SF')\n",
    "print(bryant_plus)\n",
    "\n",
    "# 1. __init__ 方法中代码冗余，每个属性都要写 3 遍\n",
    "# 2. 都需要自己实现 __repr__ 和 比较方法 __eq__, __gt__ 等\n"
   ]
  },
  {
   "cell_type": "markdown",
   "id": "6cce2c98",
   "metadata": {},
   "source": [
    "### 😄数据类 dataclass\n",
    "py3.7 之后引入的新功能，提供了开箱即用的方法来创建自定义数据，可直接实例化，打印和不计较数据类实例"
   ]
  },
  {
   "cell_type": "code",
   "execution_count": 112,
   "id": "cda86c83",
   "metadata": {},
   "outputs": [
    {
     "data": {
      "text/plain": [
       "Player(name='LJ', number=23, position='SF', address='USA')"
      ]
     },
     "execution_count": 112,
     "metadata": {},
     "output_type": "execute_result"
    }
   ],
   "source": [
    "from dataclasses import dataclass\n",
    "\n",
    "@dataclass\n",
    "class Player:\n",
    "    name: str\n",
    "    number: int\n",
    "    position: str\n",
    "    address: str\n",
    "\n",
    "james = Player('LJ', 23, 'SF', 'USA')\n",
    "\n",
    "james"
   ]
  },
  {
   "cell_type": "markdown",
   "id": "b2cba6d4",
   "metadata": {},
   "source": [
    "#### datalcass 的使用 - 类型提示和默认值\n"
   ]
  },
  {
   "cell_type": "code",
   "execution_count": null,
   "id": "4bd7e120",
   "metadata": {},
   "outputs": [],
   "source": [
    "from dataclasses import dataclass\n",
    "from typing import Any\n",
    "\n",
    "@dataclass\n",
    "class Data:\n",
    "    name: Any\n",
    "    value: Any = 42"
   ]
  },
  {
   "cell_type": "markdown",
   "id": "997afefa",
   "metadata": {},
   "source": [
    "#### 数据嵌套"
   ]
  },
  {
   "cell_type": "code",
   "execution_count": 113,
   "id": "29c1a164",
   "metadata": {},
   "outputs": [
    {
     "name": "stdout",
     "output_type": "stream",
     "text": [
      "Team(name='LOs Angles Lakers', players=[Player(name='LJ', number=23, position='SF', address='USA'), Player(name='AD', number=3, position='PF', address='USA')])\n"
     ]
    }
   ],
   "source": [
    "from dataclasses import dataclass\n",
    "from typing import List\n",
    "\n",
    "@dataclass\n",
    "class Player:\n",
    "    name: str\n",
    "    number: int\n",
    "    position: str\n",
    "    address: str\n",
    "\n",
    "@dataclass\n",
    "class Team:\n",
    "    name: str\n",
    "    players: List[Player]\n",
    "\n",
    "james = Player('LJ', 23, 'SF', 'USA')\n",
    "davis = Player('AD', 3, 'PF', 'USA')\n",
    "\n",
    "lal = Team('LOs Angles Lakers', [james, davis])\n",
    "\n",
    "print(lal)"
   ]
  },
  {
   "cell_type": "markdown",
   "id": "1cade45a",
   "metadata": {},
   "source": [
    "####  dataclasses 中的 field\n",
    "尝试使用`可变的数据类型`给数据类做`默认值`会导致`多个实例共用一个数据`从而引发 BUG,如下"
   ]
  },
  {
   "cell_type": "code",
   "execution_count": null,
   "id": "64790b9a",
   "metadata": {},
   "outputs": [
    {
     "ename": "ValueError",
     "evalue": "mutable default <class 'list'> for field players is not allowed: use default_factory",
     "output_type": "error",
     "traceback": [
      "\u001b[0;31m---------------------------------------------------------------------------\u001b[0m",
      "\u001b[0;31mValueError\u001b[0m                                Traceback (most recent call last)",
      "Cell \u001b[0;32mIn[114], line 13\u001b[0m\n\u001b[1;32m      9\u001b[0m     address: \u001b[38;5;28mstr\u001b[39m\n\u001b[1;32m     11\u001b[0m james \u001b[38;5;241m=\u001b[39m Player(\u001b[38;5;124m'\u001b[39m\u001b[38;5;124mLJ\u001b[39m\u001b[38;5;124m'\u001b[39m, \u001b[38;5;241m23\u001b[39m, \u001b[38;5;124m'\u001b[39m\u001b[38;5;124mSF\u001b[39m\u001b[38;5;124m'\u001b[39m, \u001b[38;5;124m'\u001b[39m\u001b[38;5;124mUSA\u001b[39m\u001b[38;5;124m'\u001b[39m)\n\u001b[0;32m---> 13\u001b[0m \u001b[38;5;129;43m@dataclass\u001b[39;49m\n\u001b[1;32m     14\u001b[0m \u001b[38;5;28;43;01mclass\u001b[39;49;00m\u001b[43m \u001b[49m\u001b[38;5;21;43;01mTeam\u001b[39;49;00m\u001b[43m:\u001b[49m\n\u001b[1;32m     15\u001b[0m \u001b[43m    \u001b[49m\u001b[43mname\u001b[49m\u001b[43m:\u001b[49m\u001b[43m \u001b[49m\u001b[38;5;28;43mstr\u001b[39;49m\n\u001b[1;32m     16\u001b[0m \u001b[43m    \u001b[49m\u001b[43mplayers\u001b[49m\u001b[43m:\u001b[49m\u001b[43m \u001b[49m\u001b[43mList\u001b[49m\u001b[43m[\u001b[49m\u001b[43mPlayer\u001b[49m\u001b[43m]\u001b[49m\u001b[43m \u001b[49m\u001b[38;5;241;43m=\u001b[39;49m\u001b[43m \u001b[49m\u001b[43m[\u001b[49m\u001b[43mjames\u001b[49m\u001b[43m]\u001b[49m\n",
      "File \u001b[0;32m/Library/Frameworks/Python.framework/Versions/3.11/lib/python3.11/dataclasses.py:1230\u001b[0m, in \u001b[0;36mdataclass\u001b[0;34m(cls, init, repr, eq, order, unsafe_hash, frozen, match_args, kw_only, slots, weakref_slot)\u001b[0m\n\u001b[1;32m   1227\u001b[0m     \u001b[38;5;28;01mreturn\u001b[39;00m wrap\n\u001b[1;32m   1229\u001b[0m \u001b[38;5;66;03m# We're called as @dataclass without parens.\u001b[39;00m\n\u001b[0;32m-> 1230\u001b[0m \u001b[38;5;28;01mreturn\u001b[39;00m \u001b[43mwrap\u001b[49m\u001b[43m(\u001b[49m\u001b[38;5;28;43mcls\u001b[39;49m\u001b[43m)\u001b[49m\n",
      "File \u001b[0;32m/Library/Frameworks/Python.framework/Versions/3.11/lib/python3.11/dataclasses.py:1220\u001b[0m, in \u001b[0;36mdataclass.<locals>.wrap\u001b[0;34m(cls)\u001b[0m\n\u001b[1;32m   1219\u001b[0m \u001b[38;5;28;01mdef\u001b[39;00m \u001b[38;5;21mwrap\u001b[39m(\u001b[38;5;28mcls\u001b[39m):\n\u001b[0;32m-> 1220\u001b[0m     \u001b[38;5;28;01mreturn\u001b[39;00m \u001b[43m_process_class\u001b[49m\u001b[43m(\u001b[49m\u001b[38;5;28;43mcls\u001b[39;49m\u001b[43m,\u001b[49m\u001b[43m \u001b[49m\u001b[43minit\u001b[49m\u001b[43m,\u001b[49m\u001b[43m \u001b[49m\u001b[38;5;28;43mrepr\u001b[39;49m\u001b[43m,\u001b[49m\u001b[43m \u001b[49m\u001b[43meq\u001b[49m\u001b[43m,\u001b[49m\u001b[43m \u001b[49m\u001b[43morder\u001b[49m\u001b[43m,\u001b[49m\u001b[43m \u001b[49m\u001b[43munsafe_hash\u001b[49m\u001b[43m,\u001b[49m\n\u001b[1;32m   1221\u001b[0m \u001b[43m                          \u001b[49m\u001b[43mfrozen\u001b[49m\u001b[43m,\u001b[49m\u001b[43m \u001b[49m\u001b[43mmatch_args\u001b[49m\u001b[43m,\u001b[49m\u001b[43m \u001b[49m\u001b[43mkw_only\u001b[49m\u001b[43m,\u001b[49m\u001b[43m \u001b[49m\u001b[43mslots\u001b[49m\u001b[43m,\u001b[49m\n\u001b[1;32m   1222\u001b[0m \u001b[43m                          \u001b[49m\u001b[43mweakref_slot\u001b[49m\u001b[43m)\u001b[49m\n",
      "File \u001b[0;32m/Library/Frameworks/Python.framework/Versions/3.11/lib/python3.11/dataclasses.py:958\u001b[0m, in \u001b[0;36m_process_class\u001b[0;34m(cls, init, repr, eq, order, unsafe_hash, frozen, match_args, kw_only, slots, weakref_slot)\u001b[0m\n\u001b[1;32m    955\u001b[0m         kw_only \u001b[38;5;241m=\u001b[39m \u001b[38;5;28;01mTrue\u001b[39;00m\n\u001b[1;32m    956\u001b[0m     \u001b[38;5;28;01melse\u001b[39;00m:\n\u001b[1;32m    957\u001b[0m         \u001b[38;5;66;03m# Otherwise it's a field of some type.\u001b[39;00m\n\u001b[0;32m--> 958\u001b[0m         cls_fields\u001b[38;5;241m.\u001b[39mappend(\u001b[43m_get_field\u001b[49m\u001b[43m(\u001b[49m\u001b[38;5;28;43mcls\u001b[39;49m\u001b[43m,\u001b[49m\u001b[43m \u001b[49m\u001b[43mname\u001b[49m\u001b[43m,\u001b[49m\u001b[43m \u001b[49m\u001b[38;5;28;43mtype\u001b[39;49m\u001b[43m,\u001b[49m\u001b[43m \u001b[49m\u001b[43mkw_only\u001b[49m\u001b[43m)\u001b[49m)\n\u001b[1;32m    960\u001b[0m \u001b[38;5;28;01mfor\u001b[39;00m f \u001b[38;5;129;01min\u001b[39;00m cls_fields:\n\u001b[1;32m    961\u001b[0m     fields[f\u001b[38;5;241m.\u001b[39mname] \u001b[38;5;241m=\u001b[39m f\n",
      "File \u001b[0;32m/Library/Frameworks/Python.framework/Versions/3.11/lib/python3.11/dataclasses.py:815\u001b[0m, in \u001b[0;36m_get_field\u001b[0;34m(cls, a_name, a_type, default_kw_only)\u001b[0m\n\u001b[1;32m    811\u001b[0m \u001b[38;5;66;03m# For real fields, disallow mutable defaults.  Use unhashable as a proxy\u001b[39;00m\n\u001b[1;32m    812\u001b[0m \u001b[38;5;66;03m# indicator for mutability.  Read the __hash__ attribute from the class,\u001b[39;00m\n\u001b[1;32m    813\u001b[0m \u001b[38;5;66;03m# not the instance.\u001b[39;00m\n\u001b[1;32m    814\u001b[0m \u001b[38;5;28;01mif\u001b[39;00m f\u001b[38;5;241m.\u001b[39m_field_type \u001b[38;5;129;01mis\u001b[39;00m _FIELD \u001b[38;5;129;01mand\u001b[39;00m f\u001b[38;5;241m.\u001b[39mdefault\u001b[38;5;241m.\u001b[39m\u001b[38;5;18m__class__\u001b[39m\u001b[38;5;241m.\u001b[39m\u001b[38;5;21m__hash__\u001b[39m \u001b[38;5;129;01mis\u001b[39;00m \u001b[38;5;28;01mNone\u001b[39;00m:\n\u001b[0;32m--> 815\u001b[0m     \u001b[38;5;28;01mraise\u001b[39;00m \u001b[38;5;167;01mValueError\u001b[39;00m(\u001b[38;5;124mf\u001b[39m\u001b[38;5;124m'\u001b[39m\u001b[38;5;124mmutable default \u001b[39m\u001b[38;5;132;01m{\u001b[39;00m\u001b[38;5;28mtype\u001b[39m(f\u001b[38;5;241m.\u001b[39mdefault)\u001b[38;5;132;01m}\u001b[39;00m\u001b[38;5;124m for field \u001b[39m\u001b[38;5;124m'\u001b[39m\n\u001b[1;32m    816\u001b[0m                      \u001b[38;5;124mf\u001b[39m\u001b[38;5;124m'\u001b[39m\u001b[38;5;132;01m{\u001b[39;00mf\u001b[38;5;241m.\u001b[39mname\u001b[38;5;132;01m}\u001b[39;00m\u001b[38;5;124m is not allowed: use default_factory\u001b[39m\u001b[38;5;124m'\u001b[39m)\n\u001b[1;32m    818\u001b[0m \u001b[38;5;28;01mreturn\u001b[39;00m f\n",
      "\u001b[0;31mValueError\u001b[0m: mutable default <class 'list'> for field players is not allowed: use default_factory"
     ]
    }
   ],
   "source": [
    "from dataclasses import dataclass\n",
    "from typing import List\n",
    "\n",
    "@dataclass\n",
    "class Player:\n",
    "    name: str\n",
    "    number: int\n",
    "    position: str\n",
    "    address: str\n",
    "\n",
    "james = Player('LJ', 23, 'SF', 'USA')\n",
    "\n",
    "@dataclass\n",
    "class Team:\n",
    "    name: str\n",
    "    players: List[Player] = [james]\n",
    "\n",
    "nyk = Team('New York Knicks')\n",
    "print(nyk) # ValueError: mutable default <class 'list'> for field players is not allowed: use default_factory"
   ]
  },
  {
   "cell_type": "markdown",
   "id": "494057ab",
   "metadata": {},
   "source": [
    "#### field 中的 default_facotry\n",
    "就像错误提示中，此时需要使用 field 中的 `default_facotry`"
   ]
  },
  {
   "cell_type": "code",
   "execution_count": null,
   "id": "9617832a",
   "metadata": {},
   "outputs": [
    {
     "name": "stdout",
     "output_type": "stream",
     "text": [
      "Team(name='New York Knicks', players=[Player(name='LJ', number=23, position='SF', address='USA')])\n"
     ]
    }
   ],
   "source": [
    "from dataclasses import dataclass, field\n",
    "from typing import List\n",
    "\n",
    "@dataclass\n",
    "class Player:\n",
    "    name: str\n",
    "    number: int\n",
    "    position: str\n",
    "    address: str\n",
    "\n",
    "james = Player('LJ', 23, 'SF', 'USA')\n",
    "\n",
    "@dataclass\n",
    "class Team:\n",
    "    name: str\n",
    "    players: List[Player] = field(default_factory=lambda : [james])\n",
    "\n",
    "nyk = Team('New York Knicks')\n",
    "print(nyk)"
   ]
  },
  {
   "cell_type": "markdown",
   "id": "81244ec3",
   "metadata": {},
   "source": [
    "### 不可变数据类\n",
    "要使得数据类并不可变，需要创建类时设置 `frozen=True`"
   ]
  },
  {
   "cell_type": "code",
   "execution_count": 118,
   "id": "61fd8de1",
   "metadata": {},
   "outputs": [
    {
     "name": "stdout",
     "output_type": "stream",
     "text": [
      "Data(name='lmj', value='100')\n"
     ]
    },
    {
     "ename": "FrozenInstanceError",
     "evalue": "cannot assign to field 'name'",
     "output_type": "error",
     "traceback": [
      "\u001b[0;31m---------------------------------------------------------------------------\u001b[0m",
      "\u001b[0;31mFrozenInstanceError\u001b[0m                       Traceback (most recent call last)",
      "Cell \u001b[0;32mIn[118], line 12\u001b[0m\n\u001b[1;32m      9\u001b[0m data \u001b[38;5;241m=\u001b[39m Data(\u001b[38;5;124m'\u001b[39m\u001b[38;5;124mlmj\u001b[39m\u001b[38;5;124m'\u001b[39m, \u001b[38;5;124m'\u001b[39m\u001b[38;5;124m100\u001b[39m\u001b[38;5;124m'\u001b[39m)\n\u001b[1;32m     10\u001b[0m \u001b[38;5;28mprint\u001b[39m(data)\n\u001b[0;32m---> 12\u001b[0m \u001b[43mdata\u001b[49m\u001b[38;5;241;43m.\u001b[39;49m\u001b[43mname\u001b[49m \u001b[38;5;241m=\u001b[39m \u001b[38;5;124m'\u001b[39m\u001b[38;5;124mother\u001b[39m\u001b[38;5;124m'\u001b[39m\n",
      "File \u001b[0;32m<string>:4\u001b[0m, in \u001b[0;36m__setattr__\u001b[0;34m(self, name, value)\u001b[0m\n",
      "\u001b[0;31mFrozenInstanceError\u001b[0m: cannot assign to field 'name'"
     ]
    }
   ],
   "source": [
    "from dataclasses import dataclass\n",
    "from typing import Any\n",
    "\n",
    "@dataclass(frozen=True)\n",
    "class Data:\n",
    "    name: Any\n",
    "    value: Any = 42\n",
    "\n",
    "data = Data('lmj', '100')\n",
    "print(data)\n",
    "\n",
    "data.name = 'other'"
   ]
  },
  {
   "cell_type": "markdown",
   "id": "48aa9c96-3535-480a-8eb7-797a22a0518c",
   "metadata": {},
   "source": [
    "## collections.Counter"
   ]
  },
  {
   "cell_type": "code",
   "execution_count": 12,
   "id": "958a727e-112d-4976-9f64-9da4d341867e",
   "metadata": {},
   "outputs": [
    {
     "name": "stdout",
     "output_type": "stream",
     "text": [
      "Counter({' ': 4, 'i': 3, 'a': 2, 't': 1, 's': 1, 'n': 1, 'c': 1, 'e': 1, 'd': 1, 'y': 1, '!': 1})\n",
      "Counter({'new_key': 123, ' ': 4, 'i': 3, 'a': 2, 't': 1, 's': 1, 'n': 1, 'c': 1, 'e': 1, 'd': 1, 'y': 1, '!': 1})\n"
     ]
    }
   ],
   "source": [
    "from collections import Counter\n",
    "\n",
    "string_sample = \"it is a nice day!\"\n",
    "word_count_dict = Counter(string_sample)\n",
    "print(word_count_dict) # 其中空格、标点等字符也包含计算范围\n",
    "\n",
    "word_count_dict['new_key'] = 123\n",
    "print(word_count_dict)\n"
   ]
  },
  {
   "cell_type": "markdown",
   "id": "3a8bd772",
   "metadata": {},
   "source": [
    "### Counter 比较运算的示例"
   ]
  },
  {
   "cell_type": "code",
   "execution_count": 1,
   "id": "fc666568",
   "metadata": {},
   "outputs": [
    {
     "data": {
      "text/plain": [
       "10"
      ]
     },
     "execution_count": 1,
     "metadata": {},
     "output_type": "execute_result"
    }
   ],
   "source": [
    "from collections import Counter\n",
    "\n",
    "\n",
    "def validSubstringCount(s: str, t: str) -> str:\n",
    "    ans = left = 0\n",
    "    cnt_s = Counter()\n",
    "    cnt_t = Counter(t)\n",
    "    for _, ch in enumerate(s):\n",
    "        cnt_s[ch] += 1\n",
    "        while cnt_s >= cnt_t: # ...left ... right 是合法的子串\n",
    "            cnt_s[s[left]] -= 1\n",
    "            left += 1\n",
    "        ans += left # 0, 1, 2 ... left - 1，这种情况下则有 left 个合法子串\n",
    "    return ans\n",
    "    \n",
    "s = \"abcabc\"\n",
    "t = \"abc\"\n",
    "\n",
    "validSubstringCount(s, t)"
   ]
  },
  {
   "cell_type": "markdown",
   "id": "1bdca688-f234-44cd-857c-b23619c78ef2",
   "metadata": {},
   "source": [
    "## collections.defaultdict"
   ]
  },
  {
   "cell_type": "markdown",
   "id": "98ab4975",
   "metadata": {},
   "source": [
    "### 基本用法"
   ]
  },
  {
   "cell_type": "code",
   "execution_count": 8,
   "id": "ece582c0-572e-4eef-aa66-704b9ab8f99d",
   "metadata": {},
   "outputs": [
    {
     "name": "stdout",
     "output_type": "stream",
     "text": [
      "defaultdict(<class 'int'>, {'new_key': 123}) 类型：<class 'collections.defaultdict'>\n",
      "new_key 123\n"
     ]
    }
   ],
   "source": [
    "from collections import defaultdict\n",
    "\n",
    "sample = defaultdict(int)\n",
    "sample['new_key'] = 123 # 不存在的 key 会自动创建\n",
    "print(sample,f'类型：{type(sample)}')\n",
    "\n",
    "for k, v in sample.items():\n",
    "    print(k, v)\n"
   ]
  },
  {
   "cell_type": "markdown",
   "id": "cbbf0553",
   "metadata": {},
   "source": [
    "### 默认值为可变数据类型的 defaultdict"
   ]
  },
  {
   "cell_type": "code",
   "execution_count": 14,
   "id": "6f3c95cb",
   "metadata": {},
   "outputs": [
    {
     "name": "stdout",
     "output_type": "stream",
     "text": [
      "defaultdict(<class 'list'>, {2: [2, 4], 3: [6]})\n"
     ]
    }
   ],
   "source": [
    "from collections import defaultdict\n",
    "\n",
    "lst = [[2, 2], [2, 4], [3, 6]]\n",
    "sample = defaultdict(list)\n",
    "                                           \n",
    "for id, value in lst:\n",
    "    sample[id].append(value)\n",
    "\n",
    "print(sample)\n"
   ]
  },
  {
   "cell_type": "markdown",
   "id": "ae578b7a",
   "metadata": {},
   "source": [
    "## itertools.groupby\n",
    "对可迭代对象进行分组"
   ]
  },
  {
   "cell_type": "code",
   "execution_count": 3,
   "id": "9a325b51",
   "metadata": {},
   "outputs": [
    {
     "name": "stdout",
     "output_type": "stream",
     "text": [
      "\n",
      "1. 基本 groupby 示例\n",
      "==============================\n",
      "默认分组 2: ['2', '2', '2']\n",
      "默认分组 3: ['3', '3']\n",
      "首字母 a: ['ant', 'apple']\n",
      "首字母 b: ['banana', 'bee']\n",
      "首字母 c: ['car', 'cat']\n",
      "\n",
      "2. 字典 groupby 示例\n",
      "==============================\n",
      "\n",
      "等级 A 的学生:\n",
      "  - Alice: 95分\n",
      "  - Charlie: 92分\n",
      "  - Eve: 91分\n",
      "\n",
      "等级 B 的学生:\n",
      "  - Bob: 85分\n",
      "  - David: 88分\n",
      "\n",
      "3. 高级 groupby 示例\n",
      "==============================\n",
      "\n",
      "每日总销售额:\n",
      "{'2025-01-01': 300, '2025-01-02': 400, '2025-01-03': 340}\n"
     ]
    },
    {
     "ename": "ZeroDivisionError",
     "evalue": "division by zero",
     "output_type": "error",
     "traceback": [
      "\u001b[0;31m---------------------------------------------------------------------------\u001b[0m",
      "\u001b[0;31mZeroDivisionError\u001b[0m                         Traceback (most recent call last)",
      "Cell \u001b[0;32mIn[3], line 113\u001b[0m\n\u001b[1;32m    111\u001b[0m \u001b[38;5;28mprint\u001b[39m(\u001b[38;5;124m\"\u001b[39m\u001b[38;5;130;01m\\n\u001b[39;00m\u001b[38;5;124m3. 高级 groupby 示例\u001b[39m\u001b[38;5;124m\"\u001b[39m)\n\u001b[1;32m    112\u001b[0m \u001b[38;5;28mprint\u001b[39m(\u001b[38;5;124m\"\u001b[39m\u001b[38;5;124m=\u001b[39m\u001b[38;5;124m\"\u001b[39m \u001b[38;5;241m*\u001b[39m \u001b[38;5;241m30\u001b[39m)\n\u001b[0;32m--> 113\u001b[0m \u001b[43madvanced_groupby_demo\u001b[49m\u001b[43m(\u001b[49m\u001b[43m)\u001b[49m\n\u001b[1;32m    115\u001b[0m \u001b[38;5;28mprint\u001b[39m(\u001b[38;5;124m\"\u001b[39m\u001b[38;5;130;01m\\n\u001b[39;00m\u001b[38;5;124m4. 多键 groupby 示例\u001b[39m\u001b[38;5;124m\"\u001b[39m)\n\u001b[1;32m    116\u001b[0m \u001b[38;5;28mprint\u001b[39m(\u001b[38;5;124m\"\u001b[39m\u001b[38;5;124m=\u001b[39m\u001b[38;5;124m\"\u001b[39m \u001b[38;5;241m*\u001b[39m \u001b[38;5;241m30\u001b[39m)\n",
      "Cell \u001b[0;32mIn[3], line 76\u001b[0m, in \u001b[0;36madvanced_groupby_demo\u001b[0;34m()\u001b[0m\n\u001b[1;32m     74\u001b[0m \u001b[38;5;66;03m# 2. 按产品分组并计算平均销售额\u001b[39;00m\n\u001b[1;32m     75\u001b[0m sales_data\u001b[38;5;241m.\u001b[39msort(key\u001b[38;5;241m=\u001b[39mitemgetter(\u001b[38;5;124m'\u001b[39m\u001b[38;5;124mproduct\u001b[39m\u001b[38;5;124m'\u001b[39m))\n\u001b[0;32m---> 76\u001b[0m product_avg_sales \u001b[38;5;241m=\u001b[39m \u001b[43m{\u001b[49m\n\u001b[1;32m     77\u001b[0m \u001b[43m    \u001b[49m\u001b[43mproduct\u001b[49m\u001b[43m:\u001b[49m\u001b[43m \u001b[49m\u001b[38;5;28;43msum\u001b[39;49m\u001b[43m(\u001b[49m\u001b[43mitem\u001b[49m\u001b[43m[\u001b[49m\u001b[38;5;124;43m'\u001b[39;49m\u001b[38;5;124;43mamount\u001b[39;49m\u001b[38;5;124;43m'\u001b[39;49m\u001b[43m]\u001b[49m\u001b[43m \u001b[49m\u001b[38;5;28;43;01mfor\u001b[39;49;00m\u001b[43m \u001b[49m\u001b[43mitem\u001b[49m\u001b[43m \u001b[49m\u001b[38;5;129;43;01min\u001b[39;49;00m\u001b[43m \u001b[49m\u001b[43mgroup\u001b[49m\u001b[43m)\u001b[49m\u001b[43m \u001b[49m\u001b[38;5;241;43m/\u001b[39;49m\u001b[43m \u001b[49m\u001b[38;5;28;43mlen\u001b[39;49m\u001b[43m(\u001b[49m\u001b[38;5;28;43mlist\u001b[39;49m\u001b[43m(\u001b[49m\u001b[43mgroup\u001b[49m\u001b[43m)\u001b[49m\u001b[43m)\u001b[49m\n\u001b[1;32m     78\u001b[0m \u001b[43m    \u001b[49m\u001b[38;5;28;43;01mfor\u001b[39;49;00m\u001b[43m \u001b[49m\u001b[43mproduct\u001b[49m\u001b[43m,\u001b[49m\u001b[43m \u001b[49m\u001b[43mgroup\u001b[49m\u001b[43m \u001b[49m\u001b[38;5;129;43;01min\u001b[39;49;00m\u001b[43m \u001b[49m\u001b[43mgroupby\u001b[49m\u001b[43m(\u001b[49m\u001b[43msales_data\u001b[49m\u001b[43m,\u001b[49m\u001b[43m \u001b[49m\u001b[43mkey\u001b[49m\u001b[38;5;241;43m=\u001b[39;49m\u001b[43mitemgetter\u001b[49m\u001b[43m(\u001b[49m\u001b[38;5;124;43m'\u001b[39;49m\u001b[38;5;124;43mproduct\u001b[39;49m\u001b[38;5;124;43m'\u001b[39;49m\u001b[43m)\u001b[49m\u001b[43m)\u001b[49m\n\u001b[1;32m     79\u001b[0m \u001b[43m\u001b[49m\u001b[43m}\u001b[49m\n\u001b[1;32m     80\u001b[0m \u001b[38;5;28mprint\u001b[39m(\u001b[38;5;124m\"\u001b[39m\u001b[38;5;130;01m\\n\u001b[39;00m\u001b[38;5;124m各产品平均销售额:\u001b[39m\u001b[38;5;124m\"\u001b[39m)\n\u001b[1;32m     81\u001b[0m pprint(product_avg_sales)\n",
      "Cell \u001b[0;32mIn[3], line 77\u001b[0m, in \u001b[0;36m<dictcomp>\u001b[0;34m(.0)\u001b[0m\n\u001b[1;32m     74\u001b[0m \u001b[38;5;66;03m# 2. 按产品分组并计算平均销售额\u001b[39;00m\n\u001b[1;32m     75\u001b[0m sales_data\u001b[38;5;241m.\u001b[39msort(key\u001b[38;5;241m=\u001b[39mitemgetter(\u001b[38;5;124m'\u001b[39m\u001b[38;5;124mproduct\u001b[39m\u001b[38;5;124m'\u001b[39m))\n\u001b[1;32m     76\u001b[0m product_avg_sales \u001b[38;5;241m=\u001b[39m {\n\u001b[0;32m---> 77\u001b[0m     product: \u001b[38;5;28;43msum\u001b[39;49m\u001b[43m(\u001b[49m\u001b[43mitem\u001b[49m\u001b[43m[\u001b[49m\u001b[38;5;124;43m'\u001b[39;49m\u001b[38;5;124;43mamount\u001b[39;49m\u001b[38;5;124;43m'\u001b[39;49m\u001b[43m]\u001b[49m\u001b[43m \u001b[49m\u001b[38;5;28;43;01mfor\u001b[39;49;00m\u001b[43m \u001b[49m\u001b[43mitem\u001b[49m\u001b[43m \u001b[49m\u001b[38;5;129;43;01min\u001b[39;49;00m\u001b[43m \u001b[49m\u001b[43mgroup\u001b[49m\u001b[43m)\u001b[49m\u001b[43m \u001b[49m\u001b[38;5;241;43m/\u001b[39;49m\u001b[43m \u001b[49m\u001b[38;5;28;43mlen\u001b[39;49m\u001b[43m(\u001b[49m\u001b[38;5;28;43mlist\u001b[39;49m\u001b[43m(\u001b[49m\u001b[43mgroup\u001b[49m\u001b[43m)\u001b[49m\u001b[43m)\u001b[49m\n\u001b[1;32m     78\u001b[0m     \u001b[38;5;28;01mfor\u001b[39;00m product, group \u001b[38;5;129;01min\u001b[39;00m groupby(sales_data, key\u001b[38;5;241m=\u001b[39mitemgetter(\u001b[38;5;124m'\u001b[39m\u001b[38;5;124mproduct\u001b[39m\u001b[38;5;124m'\u001b[39m))\n\u001b[1;32m     79\u001b[0m }\n\u001b[1;32m     80\u001b[0m \u001b[38;5;28mprint\u001b[39m(\u001b[38;5;124m\"\u001b[39m\u001b[38;5;130;01m\\n\u001b[39;00m\u001b[38;5;124m各产品平均销售额:\u001b[39m\u001b[38;5;124m\"\u001b[39m)\n\u001b[1;32m     81\u001b[0m pprint(product_avg_sales)\n",
      "\u001b[0;31mZeroDivisionError\u001b[0m: division by zero"
     ]
    }
   ],
   "source": [
    "\"\"\"\n",
    "Python groupby 使用示例\n",
    "===================\n",
    "\n",
    "groupby 是 itertools 模块中的一个强大工具，用于对可迭代对象进行分组。\n",
    "主要特点：\n",
    "1. 按照指定的 key 函数对数据进行分组\n",
    "2. 原始数据必须是已排序的（按照分组的 key 排序）\n",
    "3. 返回一个迭代器，每个元素是 (key, group) 的形式\n",
    "\"\"\"\n",
    "\n",
    "from itertools import groupby\n",
    "from operator import itemgetter\n",
    "from pprint import pprint\n",
    "\n",
    "def basic_groupby_demo():\n",
    "    \"\"\"基本的 groupby 使用示例\"\"\"\n",
    "    # 示例1: 对字符串列表按首字母分组\n",
    "    words = ['apple', 'ant', 'banana', 'bee', 'cat', 'car']\n",
    "    # 注意：必须先排序，否则相同的key可能会分到不同组\n",
    "    words.sort()\n",
    "\n",
    "    # 默认分组\n",
    "    grouped = groupby('22233')\n",
    "    for key, group in grouped:\n",
    "        print(f\"默认分组 {key}: {list(group)}\")\n",
    "    \n",
    "    # 按首字母分组\n",
    "    grouped = groupby(words, key=lambda x: x[0])\n",
    "    for key, group in grouped:\n",
    "        print(f\"首字母 {key}: {list(group)}\")\n",
    "\n",
    "def dict_groupby_demo():\n",
    "    \"\"\"对字典列表进行分组示例\"\"\"\n",
    "    # 学生成绩数据\n",
    "    students = [\n",
    "        {'name': 'Alice', 'grade': 'A', 'score': 95},\n",
    "        {'name': 'Bob', 'grade': 'B', 'score': 85},\n",
    "        {'name': 'Charlie', 'grade': 'A', 'score': 92},\n",
    "        {'name': 'David', 'grade': 'B', 'score': 88},\n",
    "        {'name': 'Eve', 'grade': 'A', 'score': 91},\n",
    "    ]\n",
    "    \n",
    "    # 按grade分组\n",
    "    # 1. 先排序\n",
    "    students.sort(key=itemgetter('grade'))\n",
    "    # 2. 分组\n",
    "    for grade, group in groupby(students, key=itemgetter('grade')):\n",
    "        print(f\"\\n等级 {grade} 的学生:\")\n",
    "        for student in group:\n",
    "            print(f\"  - {student['name']}: {student['score']}分\")\n",
    "\n",
    "def advanced_groupby_demo():\n",
    "    \"\"\"高级 groupby 使用示例\"\"\"\n",
    "    # 销售数据\n",
    "    sales_data = [\n",
    "        {'date': '2025-01-01', 'product': 'A', 'amount': 100},\n",
    "        {'date': '2025-01-01', 'product': 'B', 'amount': 200},\n",
    "        {'date': '2025-01-02', 'product': 'A', 'amount': 150},\n",
    "        {'date': '2025-01-02', 'product': 'B', 'amount': 250},\n",
    "        {'date': '2025-01-03', 'product': 'A', 'amount': 120},\n",
    "        {'date': '2025-01-03', 'product': 'B', 'amount': 220},\n",
    "    ]\n",
    "    \n",
    "    # 1. 按日期分组并计算每日总销售额\n",
    "    sales_data.sort(key=itemgetter('date'))\n",
    "    daily_sales = {\n",
    "        date: sum(item['amount'] for item in group)\n",
    "        for date, group in groupby(sales_data, key=itemgetter('date'))\n",
    "    }\n",
    "    print(\"\\n每日总销售额:\")\n",
    "    pprint(daily_sales)\n",
    "    \n",
    "    # 2. 按产品分组并计算平均销售额\n",
    "    sales_data.sort(key=itemgetter('product'))\n",
    "    product_avg_sales = {\n",
    "        product: sum(item['amount'] for item in group) / len(list(group))\n",
    "        for product, group in groupby(sales_data, key=itemgetter('product'))\n",
    "    }\n",
    "    print(\"\\n各产品平均销售额:\")\n",
    "    pprint(product_avg_sales)\n",
    "\n",
    "def multiple_keys_groupby():\n",
    "    \"\"\"多个键的分组示例\"\"\"\n",
    "    data = [\n",
    "        {'category': 'A', 'level': 1, 'value': 10},\n",
    "        {'category': 'A', 'level': 1, 'value': 20},\n",
    "        {'category': 'A', 'level': 2, 'value': 30},\n",
    "        {'category': 'B', 'level': 1, 'value': 40},\n",
    "        {'category': 'B', 'level': 2, 'value': 50},\n",
    "    ]\n",
    "    \n",
    "    # 按 category 和 level 进行分组\n",
    "    data.sort(key=lambda x: (x['category'], x['level']))\n",
    "    \n",
    "    for (category, level), group in groupby(\n",
    "        data, key=lambda x: (x['category'], x['level'])\n",
    "    ):\n",
    "        print(f\"\\n类别 {category}, 等级 {level}:\")\n",
    "        for item in group:\n",
    "            print(f\"  - 值: {item['value']}\")\n",
    "\n",
    "print(\"\\n1. 基本 groupby 示例\")\n",
    "print(\"=\" * 30)\n",
    "basic_groupby_demo()\n",
    "\n",
    "print(\"\\n2. 字典 groupby 示例\")\n",
    "print(\"=\" * 30)\n",
    "dict_groupby_demo()\n",
    "\n",
    "print(\"\\n3. 高级 groupby 示例\")\n",
    "print(\"=\" * 30)\n",
    "advanced_groupby_demo()\n",
    "\n",
    "print(\"\\n4. 多键 groupby 示例\")\n",
    "print(\"=\" * 30)\n",
    "multiple_keys_groupby()\n"
   ]
  },
  {
   "cell_type": "markdown",
   "id": "4f4a40d1-119e-48e6-8f91-ea3c2aa50494",
   "metadata": {},
   "source": [
    "## itertools.combinations\n",
    "排列组合"
   ]
  },
  {
   "cell_type": "code",
   "execution_count": 1,
   "id": "c422ec01-a8af-4fd9-8887-d6e8a5febdd8",
   "metadata": {
    "jupyter": {
     "source_hidden": true
    }
   },
   "outputs": [
    {
     "name": "stdout",
     "output_type": "stream",
     "text": [
      "[('11', '55'), ('11', '22'), ('11', '11'), ('55', '22'), ('55', '11'), ('22', '11')]\n",
      "[('11', '55', '22'), ('11', '55', '11'), ('11', '22', '11'), ('55', '22', '11')]\n",
      "[]\n"
     ]
    }
   ],
   "source": [
    "from itertools import combinations\n",
    "\n",
    "sample = ['11', '55', '22', '11']\n",
    "answer_2 = combinations(sample, 2)\n",
    "print(list(answer_2))\n",
    "\n",
    "answer_3 = combinations(sample, 3)\n",
    "print(list(answer_3))\n",
    "\n",
    "answer_5 = combinations(sample, 5)\n",
    "print(list(answer_5))"
   ]
  },
  {
   "cell_type": "markdown",
   "id": "86945493-d64a-46e5-b1e3-25db3a160777",
   "metadata": {},
   "source": [
    "## heapq\n",
    "- 如果操作对象是有序数组，则初始堆化步骤可忽略"
   ]
  },
  {
   "cell_type": "code",
   "execution_count": null,
   "id": "256fcda9-2981-4173-bdb2-b26f2d54908b",
   "metadata": {},
   "outputs": [
    {
     "name": "stdout",
     "output_type": "stream",
     "text": [
      "[-9, -7, -3, -5, -1]\n",
      "-9\n",
      "[-7, -5, -3, -1, 2]\n",
      "[-5, -1, -3, 100, 2]\n"
     ]
    }
   ],
   "source": [
    "import heapq\n",
    "\n",
    "# 有序数据\n",
    "sorted_list = [-1, -7, -3, -5, -9]\n",
    "heapq.heapify(sorted_list)\n",
    "print(sorted_list)\n",
    "\n",
    "min_element = heapq.heappop(sorted_list) # 直接从有序数据中弹出最小元素\n",
    "print(min_element)  # 输出最小元素\n",
    "heapq.heappush(sorted_list, 2)  # 添加新元素\n",
    "print(sorted_list)  # 输出弹出元素后的有序数据\n",
    "\n",
    "# [-7, -5, -3, -1, 2]\n",
    "heapq.heapreplace(sorted_list, 100) # heapreplace = pop + push\n",
    "print(sorted_list)"
   ]
  },
  {
   "cell_type": "markdown",
   "id": "9fa7c2dc",
   "metadata": {},
   "source": [
    "### 实现堆排序"
   ]
  },
  {
   "cell_type": "code",
   "execution_count": null,
   "id": "d8f46a19",
   "metadata": {},
   "outputs": [
    {
     "name": "stdout",
     "output_type": "stream",
     "text": [
      "[1, 4, 0, 21, 33, 4]\n",
      "[0, 1, 4, 4, 21, 33]\n"
     ]
    }
   ],
   "source": [
    "\n",
    "def _heapify(arr, n, i):\n",
    "    mx = i\n",
    "    left = 2 * i + 1\n",
    "    right = 2 * i + 2\n",
    "\n",
    "    if left < n and arr[left] > arr[mx]:\n",
    "        mx = left\n",
    "\n",
    "    if right < n and arr[right] > arr[mx]:\n",
    "        mx = right\n",
    "\n",
    "    if mx != i:\n",
    "        arr[mx], arr[i] = arr[i], arr[mx]\n",
    "        _heapify(arr, n, mx)\n",
    "\n",
    "\n",
    "def heapsort(arr):\n",
    "    n = len(arr)\n",
    "\n",
    "    for i in range(n // 2 - 1, -1, -1):\n",
    "        _heapify(arr, n, i)\n",
    "\n",
    "    for i in range(n - 1, 0, -1):\n",
    "        arr[i], arr[0] = arr[0], arr[i]\n",
    "        _heapify(arr, i, 0)\n",
    "\n",
    "\n",
    "def run():\n",
    "    # lst = [6, 3, 2, 0, 4, 1]\n",
    "    lst = list(map(int, input('Please input numbers:').split()))\n",
    "    print(lst)\n",
    "    heapsort(lst)\n",
    "    print(lst)\n",
    "\n",
    "run()\n"
   ]
  },
  {
   "cell_type": "markdown",
   "id": "6e173fb1-b276-45f5-b93e-05b8bae650f0",
   "metadata": {},
   "source": [
    "## round\n",
    "四舍五入"
   ]
  },
  {
   "cell_type": "markdown",
   "id": "bf570cf9-9f2c-4dc8-b1c9-a647742ce802",
   "metadata": {},
   "source": [
    "## 向上取整\n",
    " a/b = a-1/b + 1"
   ]
  },
  {
   "cell_type": "markdown",
   "id": "e45f8e3e-ec62-46e6-82da-0a72ce737482",
   "metadata": {},
   "source": [
    "# 运算相关"
   ]
  },
  {
   "cell_type": "markdown",
   "id": "2f8b2d78",
   "metadata": {},
   "source": [
    "## 比较运算符"
   ]
  },
  {
   "cell_type": "code",
   "execution_count": null,
   "id": "1d9a3253",
   "metadata": {},
   "outputs": [
    {
     "name": "stdout",
     "output_type": "stream",
     "text": [
      "3\n",
      "2\n",
      "0\n",
      "2\n"
     ]
    }
   ],
   "source": [
    "\"\"\"\n",
    "在基础数值计算表达式中 True = 1 | False = 0\n",
    "\n",
    "[2,4,1,3]\n",
    "    p = 2 q = 1\n",
    "    p > q\n",
    "    ans = p + (n - q - 1) - 1 \n",
    "\n",
    "[2,1,4,3]\n",
    "    p = 1 q = 2\n",
    "    p < q\n",
    "    ans = p + (n - q - 1) \n",
    "\n",
    "\"\"\"\n",
    "\n",
    "# nums = [2,1,4,3]\n",
    "nums = [2,4,1,3]\n",
    "n = len(nums)\n",
    "p = nums.index(1)\n",
    "q = nums.index(n)\n",
    "# ans = (p + (n - q - 1) - 1) if p > q else p + (n - q - 1)\n",
    "ans = p + (n - q - 1) - (p > q)\n",
    "print(ans)\n",
    "\n",
    "\n",
    "################ 布尔值与三元运算符的结合运算\n",
    "a = 2\n",
    "b = 5\n",
    "\n",
    "print(a + (1 if a > b else 0))\n",
    "print(a + 1 if a > b else 0)\n",
    "print(a + (a > b))"
   ]
  },
  {
   "cell_type": "markdown",
   "id": "0e87e5b5-0ed7-4286-9e4d-539a3ca6c091",
   "metadata": {
    "jp-MarkdownHeadingCollapsed": true
   },
   "source": [
    "## 海象运算符（walrus operator）\n",
    "在 Python 中，:= 是海象（walrus operator），在 Python 3.8 版本中引入。这个运算符被用于在表达式中同时执行赋值和返回赋值的值。\n",
    "\n",
    "具体用法如下：\n",
    "\n",
    "expression := value：这个表达式会首先计算 value 的值，然后将该值赋给 expression，最后返回 expression 的值。\n",
    "海象运算符有助于简化代码，尤其在需要在条件语句中同时赋值和使用变量时非常有用。\n",
    "\n",
    "例如，对于 res := 'xx'，'xx' 被赋值给变量 res，并且整个表达式的值也是 'xx'。"
   ]
  },
  {
   "cell_type": "markdown",
   "id": "72f8c237-84db-420a-bb34-a576f0fbac29",
   "metadata": {},
   "source": [
    "## 异或"
   ]
  },
  {
   "cell_type": "code",
   "execution_count": null,
   "id": "cb4817ce-b73f-4d6a-878d-334cff446c58",
   "metadata": {},
   "outputs": [],
   "source": [
    "# a = 0\n",
    "# print(a ^ 0) # 0\n",
    "# print(a ^ 1) # 1\n",
    "\n",
    "# b = 1\n",
    "# print(b ^ 0) # 1\n",
    "# print(b ^ 1) # 0\n",
    "\n",
    "# example = [0, 1, 1, 0, 0]\n",
    "# for i in range(len(example)):\n",
    "#     example[i] ^= 1\n",
    "# print(example)\n",
    "\n",
    "\n",
    "'''\n",
    "s = 'abcd'\n",
    "t = 'abcde'\n",
    "\n",
    "检测出 t 中多余的字符串\n",
    "'''\n",
    "print(chr(ord('a') ^ ord('b') ^ ord('c') ^ ord('a') ^ ord('c'))) # 'b'"
   ]
  },
  {
   "cell_type": "markdown",
   "id": "10f9aaf9-be29-4641-975e-13fe90894f09",
   "metadata": {},
   "source": [
    "## 取模"
   ]
  },
  {
   "cell_type": "code",
   "execution_count": null,
   "id": "7a27b197-0d1c-499e-9a1d-cfc1560c861c",
   "metadata": {},
   "outputs": [
    {
     "name": "stdout",
     "output_type": "stream",
     "text": [
      "1\n",
      "20\n",
      "20\n",
      "5\n",
      "4\n",
      "2\n",
      "1000000007 和 1000000007 是等值 True\n"
     ]
    }
   ],
   "source": [
    "DAY_HOURS = 24\n",
    "\n",
    "hour1 = 25\n",
    "hour1 %= DAY_HOURS # 这一步就是将 hour 缩小范围至闭区间 [0,23]\n",
    "print(hour1)\n",
    "\n",
    "# python 负数去模，自动转换为正数\n",
    "hour2 = -100\n",
    "hour2 %= DAY_HOURS\n",
    "print(hour2)\n",
    "\n",
    "# 或者用通用方式\n",
    "hour3 = -100\n",
    "hour3 = (hour3 + DAY_HOURS) % DAY_HOURS\n",
    "print(hour3)\n",
    "\n",
    "## 1\n",
    "num = 245\n",
    "while num:\n",
    "    print(num % 10)  # 数字取模方式，高位 <-- 地位\n",
    "    num //= 10\n",
    "\n",
    "## 2\n",
    "MOD1 = 1_000_000_007  # 可以在数字字面量中使用下划线 _ 来增强可读性，但在解析时会忽略\n",
    "MOD2 = 1000000007\n",
    "print(f\"{MOD1} 和 {MOD2} 是等值 {MOD1 == MOD2}\") # MOD1 的字面”下划线“在解析时会忽略\n",
    "\n",
    "## 3\n",
    "# 不仅用于计算余数，算法中常用于判定奇偶数，循环数组等。\n",
    "# 如下判断一个双色环形图案的颜色（0：黑，1：白）数组中连续 k 个交替颜色色块的数量。\n",
    "def func(colors:list[int], k:int)->int:\n",
    "    ans = cnt = 0\n",
    "    n = len(colors)\n",
    "    for i in enumerate(n * 2):\n",
    "        if i > 0 and colors[i % n] == colors[(i + 1) % n]:\n",
    "            cnt = 0\n",
    "        cnt += 1\n",
    "        if i >= n and cnt >= k:\n",
    "            ans += 1\n",
    "    return ans\n"
   ]
  },
  {
   "cell_type": "markdown",
   "id": "26dfbc67",
   "metadata": {},
   "source": [
    "## divmod: 除法，取商和余数"
   ]
  },
  {
   "cell_type": "code",
   "execution_count": 11,
   "id": "4690e39c",
   "metadata": {},
   "outputs": [
    {
     "name": "stdout",
     "output_type": "stream",
     "text": [
      "5 0\n",
      "3 2\n"
     ]
    }
   ],
   "source": [
    "a, b = divmod(10, 2)\n",
    "print(a, b)\n",
    "\n",
    "c, d = divmod(11, 3)\n",
    "print(c, d)"
   ]
  },
  {
   "cell_type": "markdown",
   "id": "112451d3-791a-4206-a944-4e192fcd2a17",
   "metadata": {},
   "source": [
    "## 位运算"
   ]
  },
  {
   "cell_type": "markdown",
   "id": "a57ca6eb",
   "metadata": {},
   "source": [
    "### 转 二进制 bin 函数\n",
    "bin(2080): \"0b100000100000\""
   ]
  },
  {
   "cell_type": "code",
   "execution_count": 1,
   "id": "03165734",
   "metadata": {},
   "outputs": [
    {
     "name": "stdout",
     "output_type": "stream",
     "text": [
      "100000100000-10-11101\n"
     ]
    }
   ],
   "source": [
    "def convertDateToBinary(date_string: str) -> str:\n",
    "    # def s_to_b(s: str) -> str:\n",
    "    #     n = int(s)\n",
    "    #     ans = ''\n",
    "    #     while n > 0:\n",
    "    #         reminder = n % 2\n",
    "    #         ans = f'{reminder}{ans}'\n",
    "    #         n = n // 2\n",
    "    #     return ans\n",
    "    # return f'{s_to_b(date_string[:4])}-{s_to_b(date_string[5:7])}-{s_to_b(date_string[8:])}'\n",
    "\n",
    "    s_lst = date_string.split('-')\n",
    "    return '-'.join([bin(int(item))[2:] for item in s_lst])\n",
    "\n",
    "date_string = '2080-02-29'\n",
    "ans = convertDateToBinary(date_string)\n",
    "print(ans)"
   ]
  },
  {
   "cell_type": "markdown",
   "id": "e27e4158",
   "metadata": {},
   "source": [
    "### 认识位运算和二进制位中 1 的个数\n",
    "bit_count()"
   ]
  },
  {
   "cell_type": "code",
   "execution_count": 9,
   "id": "1bbb9bf6-b583-4809-9a49-1cdc48badc91",
   "metadata": {},
   "outputs": [
    {
     "name": "stdout",
     "output_type": "stream",
     "text": [
      "15\n",
      "17 5\n",
      "16\n",
      "3\n",
      "2\n",
      "1\n",
      "0\n"
     ]
    }
   ],
   "source": [
    "\"\"\"\n",
    "简化数据结构，并将最差场景里的算法效率提升 64 倍（取决于编程环境，也有可能 32），即 O(64) -> O(1)\n",
    "\"\"\"\n",
    "f = 1 # 00000001\n",
    "bit_idx = 4\n",
    "\n",
    "mask = (1 << bit_idx) - 1 # 000000001 => 00010000 =>  00010000 - 00000001 => 00001111 \n",
    "print(mask)\n",
    "f |= (f & mask) << bit_idx # 000000001 & 00001111 => 00001111 << 4 => 11110000\n",
    "\n",
    "print(f, f.bit_length())\n",
    "print(1 << 4)\n",
    "\n",
    "# 3.10 引入新特性 bit_count, 计算二进制位中有多少个 1\n",
    "bit_a = 13  # 1101\n",
    "bit_b = 5  # 0101\n",
    "bit_c = 1  # 0001\n",
    "bit_d = 0\n",
    "print(bit_a.bit_count())\n",
    "print(bit_b.bit_count())\n",
    "print(bit_c.bit_count())\n",
    "print(bit_d.bit_count())\n"
   ]
  },
  {
   "cell_type": "markdown",
   "id": "a7dd9686",
   "metadata": {},
   "source": [
    "### lowbit\n",
    "最低位 1"
   ]
  },
  {
   "cell_type": "code",
   "execution_count": null,
   "id": "7360860a",
   "metadata": {},
   "outputs": [
    {
     "name": "stdout",
     "output_type": "stream",
     "text": [
      "False\n"
     ]
    }
   ],
   "source": [
    "#      s = 101100\n",
    "#     ~s = 010011\n",
    "# (~s)+1 = 010100 # 也称补码，这也是 -s ==> s 的最低 1 左侧取反，右侧不变\n",
    "# s&(-s) = 000100 # lowbit\n",
    "\n",
    "# 将 seats 转化为二进制数字的数组，1 代表 . 0 代表 #，注意二进制数字从右往左读\n",
    "seats = [\n",
    "    [\"#\",\".\",\"#\",\"#\",\".\",\"#\"],\n",
    "    [\".\",\"#\",\"#\",\"#\",\"#\",\".\"],\n",
    "    [\"#\",\".\",\"#\",\"#\",\".\",\"#\"]\n",
    "]\n",
    "a = [sum((c == '.') << idx for idx, c in enumerate(s)) for s in seats] # [18, 33, 18]\n",
    "\n",
    "# 4  0100\n",
    "#    4 << 1\n",
    "# 8  1000\n",
    "#    4 << 1 | 4\n",
    "# 12 1100\n",
    "# lb << 1 | lb 等价于 lb * 3\n",
    "\n",
    "# a & ~ b, 判断两集合的差，换个角度说 (a & ~ b) == 0, 则判断 a 是 b 的子集合\n",
    "print(4 & ~ 8 == 0)  # False\n",
    "print(4 & ~ 12 == 0) # True\n"
   ]
  },
  {
   "cell_type": "markdown",
   "id": "166d4ba4-efae-4532-a8bf-ae6d4f69a72c",
   "metadata": {
    "jp-MarkdownHeadingCollapsed": true
   },
   "source": [
    "# 迭代器"
   ]
  },
  {
   "cell_type": "markdown",
   "id": "38cd081c",
   "metadata": {},
   "source": [
    "## pairwise\n",
    "考虑元素之间关系的算法问题非常有用，例如配对距离或测试用例生成中减少用例数量同时保持较高覆盖率"
   ]
  },
  {
   "cell_type": "code",
   "execution_count": 3,
   "id": "0d11d151",
   "metadata": {},
   "outputs": [
    {
     "name": "stdout",
     "output_type": "stream",
     "text": [
      "-- pairwise example: --\n",
      "[('a', 'b'), ('b', 'c'), ('c', 'd'), ('d', 'e')]\n",
      "-- pairwise example: --\n",
      "[(11, 33), (33, 22), (22, 88), (88, 55)]\n"
     ]
    }
   ],
   "source": [
    "from itertools import pairwise\n",
    "\n",
    "def pairwise_exmaple(it):\n",
    "    print(f'-- pairwise example: --')\n",
    "    pair_list = []\n",
    "    for pair in pairwise(it):\n",
    "        pair_list.append(pair)\n",
    "    print(pair_list)\n",
    "\n",
    "pairwise_exmaple('abcde')\n",
    "pairwise_exmaple([11, 33, 22, 88, 55])\n"
   ]
  },
  {
   "cell_type": "code",
   "execution_count": 6,
   "id": "52bae2d8",
   "metadata": {},
   "outputs": [
    {
     "name": "stdout",
     "output_type": "stream",
     "text": [
      "最大连续楼层数：12\n"
     ]
    }
   ],
   "source": [
    "## 不含特殊楼层的最大连续楼层数\n",
    "\"\"\"\n",
    "Alice 管理着一家公司，并租用大楼的部分楼层作为办公空间。Alice 决定将一些楼层作为 特殊楼层 ，仅用于放松。\n",
    "给你两个整数 bottom 和 top ，表示 Alice 租用了从 bottom 到 top（含 bottom 和 top 在内）的所有楼层。另给你一个整数数组 special ，其中 special[i] 表示  Alice 指定用于放松的特殊楼层。\n",
    "返回不含特殊楼层的 最大 连续楼层数。\n",
    "\n",
    "示例 1：\n",
    "\n",
    "输入：bottom = 2, top = 9, special = [4,6]\n",
    "输出：3\n",
    "解释：下面列出的是不含特殊楼层的连续楼层范围：\n",
    "- (2, 3) ，楼层数为 2 。\n",
    "- (5, 5) ，楼层数为 1 。\n",
    "- (7, 9) ，楼层数为 3 。\n",
    "因此，返回最大连续楼层数 3 。\n",
    "示例 2：\n",
    "\n",
    "输入：bottom = 6, top = 8, special = [7,6,8]\n",
    "输出：0\n",
    "解释：每层楼都被规划为特殊楼层，所以返回 0 。\n",
    "\n",
    "\"\"\"\n",
    "from typing import List\n",
    "from itertools import pairwise\n",
    "\n",
    "\n",
    "def maxConsecutive(bottom: int, top: int, special: List[int]) -> int:\n",
    "    special.sort()\n",
    "    ans = max(special[0] - bottom, top - special[-1])\n",
    "    for x, y in pairwise(special):\n",
    "        ans = max(y - x - 1, ans)\n",
    "    return ans\n",
    "\n",
    "bottom = 28\n",
    "top = 50\n",
    "special = [35, 48]\n",
    "ans = maxConsecutive(bottom, top, special)\n",
    "print(f'最大连续楼层数：{ans}')"
   ]
  },
  {
   "cell_type": "markdown",
   "id": "8c5faef4",
   "metadata": {},
   "source": [
    "## 枚举 enumerate"
   ]
  },
  {
   "cell_type": "code",
   "execution_count": 6,
   "id": "67059bc3",
   "metadata": {},
   "outputs": [
    {
     "name": "stdout",
     "output_type": "stream",
     "text": [
      "386\n",
      "下标: 1 值: 0\n",
      "下标: 2 值: 2\n"
     ]
    }
   ],
   "source": [
    "# 100043 购买物品最大开销\n",
    "values = [[10,8,6,4,2],[9,7,5,3,2]]\n",
    "new_list = []\n",
    "[new_list.append(item) for lst in values for item in lst]\n",
    "new_list.sort()\n",
    "\n",
    "res = sum(d * v for d, v in enumerate(new_list, 1)) # 1 是 enumerate 的 start 参数\n",
    "print(res)\n",
    "\n",
    "\n",
    "#### \n",
    "possible = [0, 2, 4]\n",
    "for i, v in enumerate(possible[:-1], 1):\n",
    "    print(f'下标: {i} 值: {v}')"
   ]
  },
  {
   "cell_type": "markdown",
   "id": "5149faf7",
   "metadata": {},
   "source": [
    "## iter 与 偏函数 partial"
   ]
  },
  {
   "cell_type": "code",
   "execution_count": null,
   "id": "6a787222-49f5-4fc8-8479-c0644eb982f9",
   "metadata": {},
   "outputs": [
    {
     "name": "stdout",
     "output_type": "stream",
     "text": [
      "True\n",
      "True\n",
      "iter & partial example:\n",
      "[4, 5, 1, 2]\n",
      "\n",
      "Dictionary iteration:\n",
      "Keys: ['name', 'age', 'city']\n",
      "Values: ['Alice', 30, 'New York']\n",
      "Items: [('name', 'Alice'), ('age', 30), ('city', 'New York')]\n"
     ]
    }
   ],
   "source": [
    "######################## iter \n",
    "s = 'acf'\n",
    "\n",
    "t = 'bcadecghygfip'\n",
    "example = iter(s)\n",
    "\n",
    "print(all(item in iter(t) for item in s))\n",
    "print(all(item in t for item in s))\n",
    "\n",
    "\n",
    "######################## iter & partial \n",
    "import random\n",
    "from functools import partial\n",
    "\n",
    "\n",
    "def random_until_x(x): # 0 ~ 9\n",
    "    print('iter & partial example:')\n",
    "    \n",
    "    def random_func():\n",
    "        ran = random.randint(0, 9)\n",
    "        return ran\n",
    "\n",
    "    numbers = iter(partial(random_func), x) # sentinel 是迭代结束的条件\n",
    "    print(list(numbers))\n",
    "\n",
    "random_until_x(0)\n",
    "\n",
    "def iter_dict_example():\n",
    "    # 5. Dictionary iteration\n",
    "    print(\"\\nDictionary iteration:\")\n",
    "    person = {\"name\": \"Alice\", \"age\": 30, \"city\": \"New York\"}\n",
    "    \n",
    "    # Iterate over keys\n",
    "    key_iter = iter(person)\n",
    "    print(\"Keys:\", list(key_iter))\n",
    "    \n",
    "    # Iterate over values\n",
    "    value_iter = iter(person.values())\n",
    "    print(\"Values:\", list(value_iter))\n",
    "    \n",
    "    # Iterate over items\n",
    "    item_iter = iter(person.items())\n",
    "    print(\"Items:\", list(item_iter))\n",
    "\n",
    "iter_dict_example()"
   ]
  },
  {
   "cell_type": "markdown",
   "id": "aee221a1-5ebe-495b-99fb-86c909499305",
   "metadata": {},
   "source": [
    "## itertools.count"
   ]
  },
  {
   "cell_type": "code",
   "execution_count": null,
   "id": "76967cc1-453d-4711-b82f-945df0a89c80",
   "metadata": {
    "scrolled": true
   },
   "outputs": [],
   "source": [
    "from itertools import count\n",
    "\n",
    "# for i in count(1):\n",
    "#     if i > 10:\n",
    "#         break\n",
    "#     print(i)\n",
    "\n",
    "for i in count(10,5):\n",
    "    if i > 30:\n",
    "        break\n",
    "    print(i)"
   ]
  },
  {
   "cell_type": "markdown",
   "id": "28c73ff6",
   "metadata": {},
   "source": [
    "# 前缀和"
   ]
  },
  {
   "cell_type": "code",
   "execution_count": 1,
   "id": "0270793a",
   "metadata": {},
   "outputs": [
    {
     "name": "stdout",
     "output_type": "stream",
     "text": [
      "<itertools.accumulate object at 0x10deda240>\n"
     ]
    }
   ],
   "source": [
    "from itertools import accumulate\n",
    "\n",
    "lst = [1, 2, 3, 4, 5]\n",
    "\n",
    "n = len(lst)\n",
    "s = [0] * n\n",
    "for i in range(n):\n",
    "    s[i] = s[i - 1] + lst[i]\n",
    "\n",
    "\"\"\"\n",
    "s[0] = lst[0]\n",
    "s[1] = lst[0] + lst[1]\n",
    "...\n",
    "s[n - 1] = lst[0] + lst[1] + ... + lst[n - 1]\n",
    "\"\"\"\n",
    "\n",
    "s = list(accumulate(lst))\n",
    "\n",
    "print(s) # [1, 3, 6, 10, 15]"
   ]
  },
  {
   "cell_type": "markdown",
   "id": "1154dfa1",
   "metadata": {},
   "source": [
    "### Q 皇后数组排列"
   ]
  },
  {
   "cell_type": "code",
   "execution_count": 6,
   "id": "4605f6c5",
   "metadata": {},
   "outputs": [
    {
     "name": "stdout",
     "output_type": "stream",
     "text": [
      "['.Q..', '...Q', 'Q...', '..Q.']\n"
     ]
    }
   ],
   "source": [
    "# 有一个数组记录 Q 所在行列上的位置\n",
    "q_list = [1, 3, 0, 2]\n",
    "n = len(q_list)\n",
    "\n",
    "graph = ['.'*(num) + 'Q' + '.'*(n - num - 1) for num in q_list]\n",
    "print(graph) \n",
    "# ['.Q..', '...Q', 'Q...', '..Q.']"
   ]
  },
  {
   "cell_type": "markdown",
   "id": "07c9ede3",
   "metadata": {},
   "source": [
    "# zip\n",
    "将迭代对象的元素打包成一个个元组"
   ]
  },
  {
   "cell_type": "code",
   "execution_count": 1,
   "id": "21c91580",
   "metadata": {},
   "outputs": [
    {
     "name": "stdout",
     "output_type": "stream",
     "text": [
      "queen (5, 7)\n",
      "bishop (3, 4)\n"
     ]
    }
   ],
   "source": [
    "pieces = [\"queen\",\"bishop\"]\n",
    "positions = [[5,7],[3,4]]\n",
    "\n",
    "for item, (x, y) in zip(pieces, positions):\n",
    "    print(item, (x, y))"
   ]
  },
  {
   "cell_type": "markdown",
   "id": "f3d821c4",
   "metadata": {},
   "source": [
    "## 二维数组的第一列"
   ]
  },
  {
   "cell_type": "code",
   "execution_count": null,
   "id": "c867ca76",
   "metadata": {},
   "outputs": [
    {
     "name": "stdout",
     "output_type": "stream",
     "text": [
      "[0, 0, 1, 1]\n"
     ]
    }
   ],
   "source": [
    "board = [[0,1,1,0],[0,1,1,0],[1,0,0,1],[1,0,0,1]]\n",
    "\n",
    "# c = zip(*board)\n",
    "# print(next(c))\n",
    "# print(next(c))\n",
    "# print(next(c))\n",
    "# print(next(c))\n",
    "\n",
    "first_col = list(next(zip(*board)))\n",
    "print(first_col)"
   ]
  },
  {
   "cell_type": "markdown",
   "id": "fa34214e",
   "metadata": {},
   "source": [
    "## 拼接字典\n"
   ]
  },
  {
   "cell_type": "code",
   "execution_count": 19,
   "id": "1342ebf5",
   "metadata": {},
   "outputs": [
    {
     "name": "stdout",
     "output_type": "stream",
     "text": [
      "{'gtx-1080': 'x', 'gtx-1080ti': 'y', 'gtx-1070ti': 'z'}\n",
      "{'gtx-1080': 'x', 'gtx-1080ti': 'y', 'gtx-1070ti': 'z', None: 'aaa'}\n"
     ]
    }
   ],
   "source": [
    "sn = ['gtx-1080', 'gtx-1080ti', 'gtx-1070ti']\n",
    "testcase = ['x', 'y', 'z', 'aaa']\n",
    "\n",
    "dct = dict(zip(sn, testcase)) # 如果两个列表长度不一致，则以最短的列表为准\n",
    "print(dct)\n",
    "\n",
    "## 拓展 zip_longest\n",
    "from itertools import zip_longest\n",
    "dct = dict(zip_longest(sn, testcase)) # 如果两个列表长度不一致，则以最长的列表为准\n",
    "print(dct)"
   ]
  },
  {
   "cell_type": "markdown",
   "id": "288e9531",
   "metadata": {},
   "source": [
    "# SortedList\n"
   ]
  },
  {
   "cell_type": "markdown",
   "id": "e288d6e5",
   "metadata": {},
   "source": [
    "## 基础用法"
   ]
  },
  {
   "cell_type": "code",
   "execution_count": 32,
   "id": "335abf08",
   "metadata": {},
   "outputs": [
    {
     "name": "stdout",
     "output_type": "stream",
     "text": [
      "-- test sortedlist function: --\n",
      "SortedList([1, 2, 3, 4])\n",
      "SortedList([1, 2, 2, 3, 4])\n",
      "SortedList([2, 2, 3, 4])\n",
      "-- test set function: --\n",
      "{2}\n",
      "{2}\n",
      "-- test sortedlist mutable ele function: --\n",
      "SortedKeyList([(4, 5), (-1, 7), (5, 7), (1, 8), (0, 9)], key=<function test_sortedlist_with_mutable_element_function.<locals>.<lambda> at 0x000001FB5544D8A0>)\n"
     ]
    }
   ],
   "source": [
    "from sortedcontainers import SortedList\n",
    "\n",
    "def test_sortedlist_base_function():\n",
    "    print(f\"-- test sortedlist function: --\")\n",
    "    lst = SortedList()\n",
    "    \n",
    "    for i in [2, 4, 1, 3]:\n",
    "        lst.add(i)\n",
    "    print(lst) # SortedList([1, 2, 3, 4])\n",
    "    \n",
    "    lst.add(2)\n",
    "    print(lst)\n",
    "    \n",
    "    lst.discard(1)\n",
    "    print(lst)\n",
    "\n",
    "def test_set_function():\n",
    "    print(f\"-- test set function: --\")\n",
    "    new_set = set()\n",
    "    new_set.add(2)\n",
    "    print(new_set)\n",
    "    \n",
    "    # new_set.remove(22)\n",
    "    new_set.discard(22)\n",
    "    print(new_set)\n",
    "\n",
    "def test_sortedlist_with_mutable_element_function():\n",
    "    print(f\"-- test sortedlist mutable ele function: --\")\n",
    "    # sl = SortedList(key=lambda x: (4, x[0]))\n",
    "    sl = SortedList(key=lambda x: (x[1], x[0])) # 先看 x[1] 再比较 x[0], 默认升序\n",
    "    \n",
    "\n",
    "    sl.add((5, 7))\n",
    "    sl.add((0, 9))\n",
    "    sl.add((4, 5))\n",
    "    sl.add((-1, 7))\n",
    "    sl.add((1, 8))\n",
    "\n",
    "    print(sl)\n",
    "    \n",
    "\n",
    "test_sortedlist_base_function()\n",
    "test_set_function()\n",
    "test_sortedlist_with_mutable_element_function()"
   ]
  },
  {
   "cell_type": "markdown",
   "id": "0d3ccbea-c54f-42fe-9956-87c3efbd7bee",
   "metadata": {},
   "source": [
    "## 二分查找 bisect\n",
    "适用于需要维护有序序列场景"
   ]
  },
  {
   "cell_type": "code",
   "execution_count": 23,
   "id": "29c26c91",
   "metadata": {},
   "outputs": [
    {
     "data": {
      "text/plain": [
       "2"
      ]
     },
     "execution_count": 23,
     "metadata": {},
     "output_type": "execute_result"
    }
   ],
   "source": [
    "sl = SortedList([10, 11, 12, 13, 14])\n",
    "# sl.bisect_right(12) # 3\n",
    "sl.bisect_left(12) # 2\n"
   ]
  },
  {
   "cell_type": "markdown",
   "id": "383add62",
   "metadata": {},
   "source": [
    "### 有序字典 SortedDict"
   ]
  },
  {
   "cell_type": "code",
   "execution_count": 25,
   "id": "34241544",
   "metadata": {},
   "outputs": [
    {
     "name": "stdout",
     "output_type": "stream",
     "text": [
      "True\n",
      "False\n",
      "True\n",
      "SortedDict({20: 10, 45: 30})\n"
     ]
    }
   ],
   "source": [
    "from sortedcontainers import SortedDict\n",
    "\n",
    "sd = SortedDict()\n",
    "\n",
    "def book_function(starttime, endtime):\n",
    "    idx = sd.bisect_right(starttime)\n",
    "    if idx < len(sd) and sd.values()[idx] < endtime:\n",
    "        return False\n",
    "    sd[endtime] = starttime\n",
    "    return True\n",
    "\n",
    "print(book_function(10, 20))\n",
    "print(book_function(15, 20))\n",
    "print(book_function(30, 45))\n",
    "\n",
    "print(sd)\n"
   ]
  },
  {
   "cell_type": "markdown",
   "id": "4ed4134f",
   "metadata": {},
   "source": [
    "### 有序字典，逆序初始化"
   ]
  },
  {
   "cell_type": "code",
   "execution_count": 4,
   "id": "075750da",
   "metadata": {},
   "outputs": [
    {
     "name": "stdout",
     "output_type": "stream",
     "text": [
      "SortedDict(<built-in function neg>, {500: 0, 200: 0, 100: 0, 50: 0, 20: 0})\n"
     ]
    }
   ],
   "source": [
    "from sortedcontainers import SortedDict\n",
    "from operator import neg\n",
    "\n",
    "sd = SortedDict(neg, {\n",
    "    500: 0,\n",
    "    200: 0,\n",
    "    100: 0,\n",
    "    50: 0,\n",
    "    20: 0\n",
    "})\n",
    "print(sd)\n"
   ]
  }
 ],
 "metadata": {
  "kernelspec": {
   "display_name": "Python 3 (ipykernel)",
   "language": "python",
   "name": "python3"
  },
  "language_info": {
   "codemirror_mode": {
    "name": "ipython",
    "version": 3
   },
   "file_extension": ".py",
   "mimetype": "text/x-python",
   "name": "python",
   "nbconvert_exporter": "python",
   "pygments_lexer": "ipython3",
   "version": "3.12.1"
  }
 },
 "nbformat": 4,
 "nbformat_minor": 5
}
