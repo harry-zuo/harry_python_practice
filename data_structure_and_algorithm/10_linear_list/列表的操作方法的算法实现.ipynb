{
 "cells": [
  {
   "cell_type": "code",
   "execution_count": null,
   "id": "f95fcfb9-df48-44a7-8f44-9b764867c9a3",
   "metadata": {},
   "outputs": [],
   "source": [
    "class Mylist:\n",
    "\n",
    "    def __init__(self):\n",
    "        pass\n",
    "\n",
    "    def add(self):\n",
    "        pass\n",
    "\n",
    "    def remove(self):\n",
    "        pass\n",
    "\n",
    "    def search(self):\n",
    "        pass\n"
   ]
  },
  {
   "cell_type": "code",
   "execution_count": null,
   "id": "93059f43-d2ca-4a23-ad40-075f7d7c623a",
   "metadata": {},
   "outputs": [],
   "source": [
    "\n",
    "\n",
    "\n",
    "## 开设一个  七年级六班列表\n",
    "class_7_6 = []\n",
    "class_7_6 = Mylist()\n",
    "\n",
    "\n",
    "## 添加: 学生报到，员工考勤打卡\n",
    "stu_lydia = {\n",
    "    'name': 'lydia',\n",
    "     \"no\": 1\n",
    "}\n",
    "\n",
    "stu_harry = {\n",
    "    'name': 'harry',\n",
    "     \"no\": 2\n",
    "}\n",
    "\n",
    "class_7_6.append(stu_lydia)\n",
    "class_7_6.append(stu_harry)\n",
    "\n",
    "stu_lmj = {\n",
    "    'name': 'limengjie',\n",
    "     \"no\": 1\n",
    "}\n",
    "\n",
    "class_7_6.insert(0, stu_lmj)\n",
    "\n",
    "## 合并俩个班级\n",
    "class_7_7 = [{'name': 'harry', 'no': 2}, {'name': 'jonny', 'no': 1}]\n",
    "class_7_6.extend(class_7_7)\n",
    "\n",
    "## python 形参的分类介绍\n",
    "def my_func(*args, **kwargs):\n",
    "    return kwargs.keys()\n",
    "\n",
    "# res = my_func(1, name='susan', no=1)\n",
    "# print(res)\n",
    "\n",
    "\n",
    "## 删除: 牛马或工作者的离职，学生转校或毕业\n",
    "# class_7_6.remove({'name': 'lydia', 'no': 1})\n",
    "# class_7_6.pop(-5)\n",
    "\n",
    "\n",
    "## 查找: 上课之前点名，服装店查找样品\n",
    "index_result = class_7_6.index({'name': 'harry', 'no': 2})\n",
    "\n",
    "my_list = [{'name': 'limengjie', 'no': 1}, {'name': 'lydia', 'no': 1}, {'name': 'harry', 'no': 2}, {'name': 'harry', 'no': 2}, {'name': 'jonny', 'no': 1}]\n",
    "\n",
    "# my_list[4].update(no=99)\n",
    "# my_list[4].update({'age': 1})\n",
    "# my_list[4].update({'name': '左政'})\n",
    "\n",
    "my_list[4] = {'age': 1}\n",
    "\n",
    "print(my_list)\n"
   ]
  },
  {
   "cell_type": "code",
   "execution_count": 38,
   "id": "35157ab0-f3c2-4688-b208-581ec1362c5d",
   "metadata": {},
   "outputs": [
    {
     "name": "stdout",
     "output_type": "stream",
     "text": [
      "[0, 1, 2, 3, 4, 5, 6, 7, 8, 9]\n",
      "[9, 8, 7, 6, 5, 4, 3, 2, 1, 0]\n",
      "[5, 4, 3]\n"
     ]
    }
   ],
   "source": [
    "print(list(range(0, 10, 1)))\n",
    "print(list(range(9, -1, -1)))\n",
    "print(list(range(5, 2, -1)))"
   ]
  },
  {
   "cell_type": "code",
   "execution_count": 24,
   "id": "5602ae55-fea2-49b4-9d32-dcc81a7eb18e",
   "metadata": {},
   "outputs": [
    {
     "name": "stdout",
     "output_type": "stream",
     "text": [
      "[1, 2, 10, 3, 4, 5]\n"
     ]
    }
   ],
   "source": [
    "lst = [1,2,3,4,5]\n",
    "lst.insert(2,10) # index=2 value=10\n",
    "print(lst)"
   ]
  },
  {
   "cell_type": "code",
   "execution_count": 34,
   "id": "20547791-fb8d-47ba-b1be-a1ec1512e734",
   "metadata": {},
   "outputs": [
    {
     "name": "stdout",
     "output_type": "stream",
     "text": [
      "扩容之后 lst: [1, 2, 3, 4, 5, 1, 2, 3, 4, 5]\n",
      "遍历算法之后的 lst: [1, 2, 3, 3, 4, 5, 2, 3, 4, 5]\n",
      "[1, 2, 10, 3, 4, 5]\n"
     ]
    }
   ],
   "source": [
    "lst = [1,2,3,4,5]\n",
    "size = len(lst)\n",
    "index, value= 2, 10\n",
    "\n",
    "lst = lst * 2\n",
    "print(f'扩容之后 lst: {lst}')\n",
    "\n",
    "for i in range(size, index, -1):\n",
    "    lst[i] = lst[i - 1]\n",
    "    \n",
    "print(f'遍历算法之后的 lst: {lst}')\n",
    "\n",
    "    \n",
    "# + 1 元素\n",
    "lst[index] = value\n",
    "size += 1\n",
    "\n",
    "print(lst[:size])\n"
   ]
  }
 ],
 "metadata": {
  "kernelspec": {
   "display_name": "Python 3 (ipykernel)",
   "language": "python",
   "name": "python3"
  },
  "language_info": {
   "codemirror_mode": {
    "name": "ipython",
    "version": 3
   },
   "file_extension": ".py",
   "mimetype": "text/x-python",
   "name": "python",
   "nbconvert_exporter": "python",
   "pygments_lexer": "ipython3",
   "version": "3.12.1"
  }
 },
 "nbformat": 4,
 "nbformat_minor": 5
}
